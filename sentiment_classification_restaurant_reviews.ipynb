{
  "cells": [
    {
      "cell_type": "markdown",
      "metadata": {
        "id": "jWbZmlzJh8S7"
      },
      "source": [
        "# Проект: Классификация тональности отзывов о ресторанах\n",
        "\n",
        "Перед нами стоит задача классификации тональности текста для автоматизации анализа обратной связи в случаях, когда пользователи не ставят числовую оценку.\n",
        "\n",
        "## Задачи проекта:\n",
        "\n",
        "1. Предобработать данные.\n",
        "2. Обучить несколько моделей для задачи классификации и сравнить их между собой:\n",
        "    1. Наивный Байес\n",
        "    1. TF-IDF\n",
        "    1. Сверточную модель"
      ]
    },
    {
      "cell_type": "code",
      "source": [
        "!pip install multiprocess wandb -qqq"
      ],
      "metadata": {
        "colab": {
          "base_uri": "https://localhost:8080/"
        },
        "id": "attv5OZoHoA5",
        "outputId": "58129323-7adc-4e7a-daa1-8e8e5c86a6c8"
      },
      "execution_count": 1,
      "outputs": [
        {
          "output_type": "stream",
          "name": "stdout",
          "text": [
            "\u001b[2K     \u001b[90m━━━━━━━━━━━━━━━━━━━━━━━━━━━━━━━━━━━━━━━━\u001b[0m \u001b[32m134.8/134.8 kB\u001b[0m \u001b[31m1.8 MB/s\u001b[0m eta \u001b[36m0:00:00\u001b[0m\n",
            "\u001b[2K     \u001b[90m━━━━━━━━━━━━━━━━━━━━━━━━━━━━━━━━━━━━━━━━\u001b[0m \u001b[32m6.9/6.9 MB\u001b[0m \u001b[31m16.0 MB/s\u001b[0m eta \u001b[36m0:00:00\u001b[0m\n",
            "\u001b[2K     \u001b[90m━━━━━━━━━━━━━━━━━━━━━━━━━━━━━━━━━━━━━━━━\u001b[0m \u001b[32m116.3/116.3 kB\u001b[0m \u001b[31m5.4 MB/s\u001b[0m eta \u001b[36m0:00:00\u001b[0m\n",
            "\u001b[2K     \u001b[90m━━━━━━━━━━━━━━━━━━━━━━━━━━━━━━━━━━━━━━━━\u001b[0m \u001b[32m207.3/207.3 kB\u001b[0m \u001b[31m9.9 MB/s\u001b[0m eta \u001b[36m0:00:00\u001b[0m\n",
            "\u001b[2K     \u001b[90m━━━━━━━━━━━━━━━━━━━━━━━━━━━━━━━━━━━━━━━━\u001b[0m \u001b[32m296.1/296.1 kB\u001b[0m \u001b[31m16.5 MB/s\u001b[0m eta \u001b[36m0:00:00\u001b[0m\n",
            "\u001b[2K     \u001b[90m━━━━━━━━━━━━━━━━━━━━━━━━━━━━━━━━━━━━━━━━\u001b[0m \u001b[32m62.7/62.7 kB\u001b[0m \u001b[31m4.0 MB/s\u001b[0m eta \u001b[36m0:00:00\u001b[0m\n",
            "\u001b[?25h"
          ]
        }
      ]
    },
    {
      "cell_type": "code",
      "execution_count": 2,
      "metadata": {
        "id": "Ol5O0Y8eh8S9"
      },
      "outputs": [],
      "source": [
        "import matplotlib.pyplot as plt\n",
        "import numpy as np\n",
        "import nltk\n",
        "import pandas as pd\n",
        "import re\n",
        "import torch\n",
        "import torch.nn.functional as F\n",
        "import wandb\n",
        "\n",
        "from collections import Counter\n",
        "from gensim.corpora.dictionary import Dictionary\n",
        "from multiprocess import Pool\n",
        "from nltk.stem import WordNetLemmatizer\n",
        "\n",
        "from sklearn.feature_extraction.text import CountVectorizer, TfidfVectorizer\n",
        "from sklearn.linear_model import LogisticRegression\n",
        "from sklearn.metrics import accuracy_score\n",
        "from sklearn.naive_bayes import MultinomialNB\n",
        "\n",
        "from torch import nn\n",
        "from torch.nn.utils.rnn import pad_sequence\n",
        "from torch.utils.data import DataLoader\n",
        "\n",
        "from tqdm.auto import tqdm"
      ]
    },
    {
      "cell_type": "code",
      "source": [
        "nltk.download('wordnet')"
      ],
      "metadata": {
        "colab": {
          "base_uri": "https://localhost:8080/"
        },
        "id": "c_shTE-HKkoG",
        "outputId": "e43055bb-578b-4fa8-a371-bcc980e0a54a"
      },
      "execution_count": 3,
      "outputs": [
        {
          "output_type": "stream",
          "name": "stderr",
          "text": [
            "[nltk_data] Downloading package wordnet to /root/nltk_data...\n"
          ]
        },
        {
          "output_type": "execute_result",
          "data": {
            "text/plain": [
              "True"
            ]
          },
          "metadata": {},
          "execution_count": 3
        }
      ]
    },
    {
      "cell_type": "markdown",
      "source": [
        "## Загрузка данных"
      ],
      "metadata": {
        "collapsed": false,
        "id": "lsLIGlzzHefC"
      }
    },
    {
      "cell_type": "markdown",
      "metadata": {
        "id": "zWwxAkUUz1v2"
      },
      "source": [
        "Мы будем использовать датасет Yelp. Он содержит около 450 тысяч коротких негативных и позитивных отзывов о ресторанах."
      ]
    },
    {
      "cell_type": "code",
      "source": [
        "# !gdown 1bR4D-uoUsYYneAZG0TGnoiM-Pb0DKj4m\n",
        "# !gdown 1ZTQjKEdzMZ23AcAJLBypuK2H_MXKDoSr"
      ],
      "metadata": {
        "id": "JlsTutnPJUX0"
      },
      "execution_count": 3,
      "outputs": []
    },
    {
      "cell_type": "code",
      "execution_count": 4,
      "metadata": {
        "id": "ugJnXzPSz1v3"
      },
      "outputs": [],
      "source": [
        "train_data = pd.read_csv('yelp_train.csv')\n",
        "test_data = pd.read_csv('yelp_test.csv')\n",
        "\n",
        "texts_train = train_data.text\n",
        "labels_train = train_data.label\n",
        "texts_test = test_data.text\n",
        "labels_test = test_data.label"
      ]
    },
    {
      "cell_type": "code",
      "execution_count": 5,
      "metadata": {
        "id": "0JJWXvHcz1v3",
        "outputId": "4952b406-516c-49f0-88a8-fbae20c995ab",
        "colab": {
          "base_uri": "https://localhost:8080/"
        }
      },
      "outputs": [
        {
          "output_type": "execute_result",
          "data": {
            "text/plain": [
              "((443259, 2), (1000, 2))"
            ]
          },
          "metadata": {},
          "execution_count": 5
        }
      ],
      "source": [
        "train_data.shape, test_data.shape"
      ]
    },
    {
      "cell_type": "code",
      "execution_count": 6,
      "metadata": {
        "id": "xzWl1xGkz1v4",
        "outputId": "e8191107-0611-4f01-f30a-01d2ff81e624",
        "colab": {
          "base_uri": "https://localhost:8080/"
        }
      },
      "outputs": [
        {
          "output_type": "execute_result",
          "data": {
            "text/plain": [
              "0    the service and food is always consistent and ...\n",
              "1                                      honest people .\n",
              "2                          it 's all very impressive .\n",
              "3                              its decor is horrible .\n",
              "4    definitely will go back to try some of their o...\n",
              "Name: text, dtype: object"
            ]
          },
          "metadata": {},
          "execution_count": 6
        }
      ],
      "source": [
        "texts_train[:5]"
      ]
    },
    {
      "cell_type": "markdown",
      "metadata": {
        "id": "41HPPYqyz1v4"
      },
      "source": [
        "Посмотрим на распределение классов:"
      ]
    },
    {
      "cell_type": "code",
      "execution_count": 7,
      "metadata": {
        "colab": {
          "base_uri": "https://localhost:8080/",
          "height": 367
        },
        "id": "SJKFfWGNh8TA",
        "outputId": "0892671a-2adf-4770-ae32-f2f371490ae4"
      },
      "outputs": [
        {
          "output_type": "display_data",
          "data": {
            "text/plain": [
              "<Figure size 400x400 with 1 Axes>"
            ],
            "image/png": "[encoded data removed]"
          },
          "metadata": {}
        }
      ],
      "source": [
        "labels_train.value_counts().plot(kind='pie', explode=[0, 0.1], figsize=(4, 4), autopct='%1.1f%%')\n",
        "plt.title(\"Positive vs Negative\")\n",
        "plt.show()"
      ]
    },
    {
      "cell_type": "markdown",
      "source": [
        "Для оценки качества можем использовать обычную точность (accuracy), так как классы достаточно сбалансированы."
      ],
      "metadata": {
        "collapsed": false,
        "id": "MjxemPqnHefF"
      }
    },
    {
      "cell_type": "markdown",
      "metadata": {
        "id": "LD7KaaYMh8TA"
      },
      "source": [
        "## Предобработка данных\n",
        "\n",
        "Выполним следующую предобработку тренировочных и тестовых данных:\n",
        "- приведем к нижнему регистру,\n",
        "- удалим пунктуацию,\n",
        "- лемматизируем.\n",
        "\n",
        "В этом проекте не будем удалять стоп-слова, так как они могут быть важны для классификации тональности."
      ]
    },
    {
      "cell_type": "code",
      "execution_count": 5,
      "metadata": {
        "id": "XZ4NIXUuh8TB",
        "outputId": "6abf6fa7-1c5d-43b2-d1a5-35fa0538ede2",
        "colab": {
          "base_uri": "https://localhost:8080/",
          "height": 118,
          "referenced_widgets": [
            "b7ea06b9f6f74a5d959c66db0a08e12c",
            "df693b2033834250a9ecf282c35aeadc",
            "53c2259d80dd4e05acf136ccc65840ce",
            "0cbfae1fef95415da333d0fac0450291",
            "5ebb63e0dde94758a210a9831f21d58b",
            "11692f980082412fa16e26039e44576e",
            "4fea2d5403254d979edb26ffdcab0d8c",
            "d77202ced00c495baa4f463bb9008a49",
            "98d92618004d440a82e2d54911c3c9e8",
            "180d2791297e4cf1a9409af7a48d07c6",
            "418b691796e346768727f0c4dd0f2877",
            "709c9603980c4dc1b16939cf8b7e2f51",
            "d6e09659193f454dae0246e3c05c7eb7",
            "ecfc7aebb1254610a78cf5491461a247",
            "caf4ebd059164a70bd9ec0e6548c8003",
            "e5e8887987f84935a8e9b6117566b173",
            "b8bc03fa6aba4dec811408850ef3abf9",
            "e59ee993c5d1409ebc664fc87dc75087",
            "4190889016c948049a6d5816320123c6",
            "32dfc3d2166246ffa5b6b69fd1106673",
            "362a428f3e7b412299f1d9c27d03ea29",
            "c89aa5b7c2c6402dbf55496667589e5e"
          ]
        }
      },
      "outputs": [
        {
          "output_type": "display_data",
          "data": {
            "text/plain": [
              "  0%|          | 0/443259 [00:00<?, ?it/s]"
            ],
            "application/vnd.jupyter.widget-view+json": {
              "version_major": 2,
              "version_minor": 0,
              "model_id": "b7ea06b9f6f74a5d959c66db0a08e12c"
            }
          },
          "metadata": {}
        },
        {
          "output_type": "display_data",
          "data": {
            "text/plain": [
              "  0%|          | 0/1000 [00:00<?, ?it/s]"
            ],
            "application/vnd.jupyter.widget-view+json": {
              "version_major": 2,
              "version_minor": 0,
              "model_id": "709c9603980c4dc1b16939cf8b7e2f51"
            }
          },
          "metadata": {}
        },
        {
          "output_type": "stream",
          "name": "stdout",
          "text": [
            "[['the', 'service', 'and', 'food', 'is', 'always', 'consistent', 'and', 'great'], ['honest', 'people'], ['it', 's', 'all', 'very', 'impressive'], ['it', 'decor', 'is', 'horrible'], ['definitely', 'will', 'go', 'back', 'to', 'try', 'some', 'of', 'their', 'other', 'option']]\n"
          ]
        }
      ],
      "source": [
        "def clean_text(text):\n",
        "    text = text.lower()  # Приведение к нижнему регистру\n",
        "    text = ''.join(c for c in text if c.isalnum() or c.isspace())  # Удаление знаков препинания\n",
        "\n",
        "    lemmatizer = WordNetLemmatizer() # Лемматизация\n",
        "    lemmatized = [lemmatizer.lemmatize(word) for word in text.split()]\n",
        "\n",
        "    return lemmatized\n",
        "\n",
        "with Pool(4) as pool:\n",
        "    texts_train = pool.map(clean_text, tqdm(texts_train))\n",
        "    texts_test = pool.map(clean_text, tqdm(texts_test))\n",
        "\n",
        "print(texts_train[:5])\n",
        "\n",
        "with open(\"clean_text_train.txt\", \"w\") as f:\n",
        "    for text in texts_train:\n",
        "        f.write(\" \".join(text))\n",
        "        f.write(\"\\n\")"
      ]
    },
    {
      "cell_type": "markdown",
      "metadata": {
        "id": "IktthSCzh8TC"
      },
      "source": [
        "## Метрика\n",
        "\n",
        "Как уже было сказано, для оценки качества будем считать точность."
      ]
    },
    {
      "cell_type": "markdown",
      "metadata": {
        "id": "9JVjp8DRh8TD"
      },
      "source": [
        "## Наивный Байес\n",
        "\n",
        "Обучим Наивный Байес на Bag of Words представлениях текстов. В качестве модели возьмем `MultinomialNB`."
      ]
    },
    {
      "cell_type": "code",
      "execution_count": 12,
      "metadata": {
        "id": "Mggd_O6Sh8TF",
        "outputId": "7ddf4263-4d75-48a8-f77a-a510e069ac62",
        "colab": {
          "base_uri": "https://localhost:8080/"
        }
      },
      "outputs": [
        {
          "output_type": "stream",
          "name": "stderr",
          "text": [
            "/usr/local/lib/python3.10/dist-packages/sklearn/feature_extraction/text.py:528: UserWarning: The parameter 'token_pattern' will not be used since 'tokenizer' is not None'\n",
            "  warnings.warn(\n"
          ]
        },
        {
          "output_type": "execute_result",
          "data": {
            "text/plain": [
              "(0.9365675598239404, 0.926)"
            ]
          },
          "metadata": {},
          "execution_count": 12
        }
      ],
      "source": [
        "def train_nb_model(texts_train, labels_train):\n",
        "    bow_vectorizer = CountVectorizer(\n",
        "        min_df=4,\n",
        "        max_df=0.95,\n",
        "        tokenizer=lambda text: text,\n",
        "        preprocessor=lambda text: text\n",
        "    )\n",
        "    X_train = bow_vectorizer.fit_transform(texts_train)\n",
        "    model = MultinomialNB()\n",
        "    model.fit(X_train, labels_train)\n",
        "    return model, bow_vectorizer\n",
        "\n",
        "\n",
        "def predict_nb_model(model, bow, texts_test):\n",
        "    X_test = bow.transform(texts_test)\n",
        "    return model.predict(X_test)\n",
        "\n",
        "model, bow = train_nb_model(texts_train, labels_train)\n",
        "\n",
        "train_acc = accuracy_score(labels_train, predict_nb_model(model, bow, texts_train))\n",
        "test_acc = accuracy_score(labels_test, predict_nb_model(model, bow, texts_test))\n",
        "train_acc, test_acc"
      ]
    },
    {
      "cell_type": "markdown",
      "metadata": {
        "id": "Xs9zVu45z1v6"
      },
      "source": [
        "## TF-IDF + Логистическая регрессия\n",
        "\n",
        "Наивный Байес редко работает хорошо, так как он очень чувствителен к редким словам. Гораздо более распространенный и рабочий подход - любой классификатор (логистическая регрессия, SVM, случайный лес, градиентный бустинг) поверх TF-IDF признаков.\n",
        "\n",
        "Закодируем тексты с помощью TF-IDF и обучим на этом логистическую регрессию."
      ]
    },
    {
      "cell_type": "code",
      "execution_count": 13,
      "metadata": {
        "id": "ia093vyqh8TG",
        "outputId": "76589851-aea5-4bf5-d682-524835564fd4",
        "colab": {
          "base_uri": "https://localhost:8080/"
        }
      },
      "outputs": [
        {
          "output_type": "stream",
          "name": "stderr",
          "text": [
            "/usr/local/lib/python3.10/dist-packages/sklearn/feature_extraction/text.py:528: UserWarning: The parameter 'token_pattern' will not be used since 'tokenizer' is not None'\n",
            "  warnings.warn(\n",
            "/usr/local/lib/python3.10/dist-packages/sklearn/linear_model/_logistic.py:458: ConvergenceWarning: lbfgs failed to converge (status=1):\n",
            "STOP: TOTAL NO. of ITERATIONS REACHED LIMIT.\n",
            "\n",
            "Increase the number of iterations (max_iter) or scale the data as shown in:\n",
            "    https://scikit-learn.org/stable/modules/preprocessing.html\n",
            "Please also refer to the documentation for alternative solver options:\n",
            "    https://scikit-learn.org/stable/modules/linear_model.html#logistic-regression\n",
            "  n_iter_i = _check_optimize_result(\n"
          ]
        },
        {
          "output_type": "execute_result",
          "data": {
            "text/plain": [
              "(0.9674524375139592, 0.96)"
            ]
          },
          "metadata": {},
          "execution_count": 13
        }
      ],
      "source": [
        "def train_lr_model(texts_train, labels_train):\n",
        "    tfidf_vectorizer = TfidfVectorizer(\n",
        "        min_df=4,\n",
        "        max_df=0.95,\n",
        "        tokenizer=lambda text: text,\n",
        "        preprocessor=lambda text: text\n",
        "    )\n",
        "    tfidf_vectorizer.fit(texts_train)\n",
        "    X_train = tfidf_vectorizer.transform(texts_train)\n",
        "    model = LogisticRegression()\n",
        "    model.fit(X_train, labels_train)\n",
        "    return model, tfidf_vectorizer\n",
        "\n",
        "\n",
        "def predict_lr_model(model, tfidf, texts_test):\n",
        "    X_test = tfidf.transform(texts_test)\n",
        "    return model.predict(X_test)\n",
        "\n",
        "\n",
        "model, tfidf = train_lr_model(texts_train, labels_train)\n",
        "\n",
        "train_acc = accuracy_score(labels_train, predict_lr_model(model, tfidf, texts_train))\n",
        "test_acc = accuracy_score(labels_test, predict_lr_model(model, tfidf, texts_test))\n",
        "train_acc, test_acc"
      ]
    },
    {
      "cell_type": "markdown",
      "metadata": {
        "id": "gDNhPrlLh8TH"
      },
      "source": [
        "## TF-IDF и n-граммы\n",
        "\n",
        "На данный момент мы вообще не учитываем связи между словами, хотя для нашей задачи они точно важны. Например \"хорошо\" в сочетании с \"не\" имеет полностью противоположный смысл, что напрямую влияет на класс. Хотелось бы дать возможность модели получать эту информацию напрямую. Самый популярный на практике способ это сделать - добавить в модель n-граммы слов."
      ]
    },
    {
      "cell_type": "code",
      "execution_count": 14,
      "metadata": {
        "id": "9eGLPNtch8TH",
        "outputId": "eaa33188-e4bb-4c40-8d22-f8fc5f21464f",
        "colab": {
          "base_uri": "https://localhost:8080/"
        }
      },
      "outputs": [
        {
          "output_type": "stream",
          "name": "stderr",
          "text": [
            "/usr/local/lib/python3.10/dist-packages/sklearn/feature_extraction/text.py:528: UserWarning: The parameter 'token_pattern' will not be used since 'tokenizer' is not None'\n",
            "  warnings.warn(\n"
          ]
        },
        {
          "output_type": "execute_result",
          "data": {
            "text/plain": [
              "(0.9785542989538848, 0.968)"
            ]
          },
          "metadata": {},
          "execution_count": 14
        }
      ],
      "source": [
        "def train_lr_model(texts_train, labels_train):\n",
        "    tfidf_vectorizer = TfidfVectorizer(\n",
        "        min_df=4,\n",
        "        max_df=0.95,\n",
        "        tokenizer=lambda text: text,\n",
        "        preprocessor=lambda text: text,\n",
        "        ngram_range=(1, 3)\n",
        "    )\n",
        "    tfidf_vectorizer.fit(texts_train)\n",
        "    X_train = tfidf_vectorizer.transform(texts_train)\n",
        "    model = LogisticRegression()\n",
        "    model.fit(X_train, labels_train)\n",
        "    return model, tfidf_vectorizer\n",
        "\n",
        "\n",
        "def predict_lr_model(model, tfidf, texts_test):\n",
        "    X_test = tfidf.transform(texts_test)\n",
        "    return model.predict(X_test)\n",
        "\n",
        "\n",
        "model, tfidf = train_lr_model(texts_train, labels_train)\n",
        "\n",
        "train_acc = accuracy_score(labels_train, predict_lr_model(model, tfidf, texts_train))\n",
        "test_acc = accuracy_score(labels_test, predict_lr_model(model, tfidf, texts_test))\n",
        "train_acc, test_acc"
      ]
    },
    {
      "cell_type": "markdown",
      "source": [
        "Итак, TF-IDF с Logistic Regression и n-граммами - наш бейзлайн, который выдает accuracy на тесте = 0.97"
      ],
      "metadata": {
        "collapsed": false,
        "id": "6DXbzGlhHefI"
      }
    },
    {
      "cell_type": "markdown",
      "metadata": {
        "id": "55ErCJMXh8TI"
      },
      "source": [
        "## Сверточные нейронные сети\n",
        "\n",
        "Попробуем перебить бейзлайн сверточной сетью, которая извлечет контекстную информацию, влияющую на тональность.\n",
        "\n",
        "### Подготовка датасета\n",
        "\n",
        "Для обучения нейронных сетей нам нужно немного переделать датасет. Во-первых, удалим все редкие слова. При обучении TF-IDF для таких слов автоматически ставился низкий вес. Сверточная сеть же учитывает все слова с одним вестом и редкие слова выучивает гораздо хуже, из-за чего качество может упасть.\n",
        "\n",
        "Удалим из тренировочного и тестового корпусов все слова, которые встречаются меньше, чем в 15 текстах в тренировочной выборке:"
      ]
    },
    {
      "cell_type": "code",
      "execution_count": 6,
      "outputs": [],
      "source": [
        "# Считаем частоту слов в тренировочном корпусе\n",
        "word_counts = Counter(y for x in texts_train for y in set(x))\n",
        "\n",
        "# Определяем редкие слова, которые встречаются меньше 15 раз\n",
        "rare_words = {word for word, count in word_counts.items() if count < 15}\n",
        "\n",
        "# Удаляем редкие слова в тренировочном и тестовом корпусах\n",
        "texts_train = [[word for word in text if word not in rare_words] for text in texts_train]\n",
        "texts_test = [[word for word in text if word not in rare_words] for text in texts_test]"
      ],
      "metadata": {
        "id": "V-i8tYzBHefJ"
      }
    },
    {
      "cell_type": "code",
      "execution_count": 7,
      "metadata": {
        "id": "IUTH08w1z1v7",
        "outputId": "975d024c-8858-425b-9136-309d1f81ae98",
        "colab": {
          "base_uri": "https://localhost:8080/"
        }
      },
      "outputs": [
        {
          "output_type": "stream",
          "name": "stdout",
          "text": [
            "[['the', 'service', 'and', 'food', 'is', 'always', 'consistent', 'and', 'great'], ['honest', 'people'], ['it', 's', 'all', 'very', 'impressive'], ['it', 'decor', 'is', 'horrible'], ['definitely', 'will', 'go', 'back', 'to', 'try', 'some', 'of', 'their', 'other', 'option']]\n"
          ]
        }
      ],
      "source": [
        "print(texts_train[:5])"
      ]
    },
    {
      "cell_type": "markdown",
      "metadata": {
        "id": "IxJtivUEh8TI"
      },
      "source": [
        "Нейронная сеть получает на вход индексы слов. Соответственно, нам надо превратить слова в индексы."
      ]
    },
    {
      "cell_type": "code",
      "execution_count": 8,
      "metadata": {
        "colab": {
          "base_uri": "https://localhost:8080/"
        },
        "id": "n4LJcD7-h8TI",
        "outputId": "d61ffd5e-6d1f-4096-e7e0-e8b79c513a29"
      },
      "outputs": [
        {
          "output_type": "execute_result",
          "data": {
            "text/plain": [
              "5947"
            ]
          },
          "metadata": {},
          "execution_count": 8
        }
      ],
      "source": [
        "dictionary = Dictionary(texts_train)\n",
        "dictionary.add_documents([['PAD', 'UNK']])\n",
        "len(dictionary)"
      ]
    },
    {
      "cell_type": "code",
      "execution_count": 9,
      "metadata": {
        "id": "K1QZDQePz1v7",
        "outputId": "690f35fc-3763-4241-d09e-2788d531afd5",
        "colab": {
          "base_uri": "https://localhost:8080/"
        }
      },
      "outputs": [
        {
          "output_type": "execute_result",
          "data": {
            "text/plain": [
              "[('always', 0), ('and', 1), ('consistent', 2), ('food', 3), ('great', 4)]"
            ]
          },
          "metadata": {},
          "execution_count": 9
        }
      ],
      "source": [
        "list(dictionary.token2id.items())[:5]"
      ]
    },
    {
      "cell_type": "markdown",
      "metadata": {
        "id": "axKiDYufz1v7"
      },
      "source": [
        "Соберем датасет из пар (текст, класс), чтобы можно было подать его в `DataLoader`."
      ]
    },
    {
      "cell_type": "code",
      "execution_count": 10,
      "metadata": {
        "id": "TgOdLIT2h8TR"
      },
      "outputs": [],
      "source": [
        "train_dataset = list(zip(texts_train, labels_train))\n",
        "test_dataset = list(zip(texts_test, labels_test))"
      ]
    },
    {
      "cell_type": "code",
      "execution_count": 11,
      "metadata": {
        "id": "yAFiUVAnh8TS"
      },
      "outputs": [],
      "source": [
        "# Функция для обработки каждого батча\n",
        "# Добавляем паддинги и превращаем все в тензоры\n",
        "def collate_fn(batch):\n",
        "    texts, labels = zip(*batch)\n",
        "    pad_token_id = dictionary.token2id['PAD']\n",
        "    unk_token_id = dictionary.token2id['UNK']\n",
        "    input_ids = [torch.tensor(dictionary.doc2idx(text, unknown_word_index=unk_token_id)) for text in texts]\n",
        "    return (\n",
        "        pad_sequence(input_ids, padding_value=pad_token_id).permute(1, 0).to(torch.long),\n",
        "        torch.tensor(labels)\n",
        "    )"
      ]
    },
    {
      "cell_type": "markdown",
      "metadata": {
        "id": "IBfzhWMAz1v8"
      },
      "source": [
        "Наконец, получаем `DataLoader`, из которого мы будем доставать данные."
      ]
    },
    {
      "cell_type": "code",
      "execution_count": 12,
      "metadata": {
        "id": "Gn6_T0D2h8TS"
      },
      "outputs": [],
      "source": [
        "train_loader = DataLoader(train_dataset, collate_fn=collate_fn, shuffle=True, batch_size=128)\n",
        "test_loader = DataLoader(test_dataset, collate_fn=collate_fn, shuffle=False, batch_size=32)"
      ]
    },
    {
      "cell_type": "markdown",
      "metadata": {
        "id": "N5N7qiuyz1v8"
      },
      "source": [
        "Напишим простую сверточную сеть:"
      ]
    },
    {
      "cell_type": "code",
      "execution_count": 25,
      "metadata": {
        "id": "BSkTXHLwh8TS"
      },
      "outputs": [],
      "source": [
        "class CNN(nn.Module):\n",
        "    def __init__(self, vocab_size, hid_dim, kernel_sizes=[3, 4, 5]):\n",
        "        super().__init__()\n",
        "\n",
        "        self.embedding = nn.Embedding(vocab_size, hid_dim)\n",
        "\n",
        "        self.conv = nn.ModuleList([\n",
        "            nn.Conv1d(in_channels=hid_dim, out_channels=hid_dim, kernel_size=k) for k in kernel_sizes\n",
        "        ])\n",
        "        self.relu = nn.ReLU()\n",
        "        self.dropout = nn.Dropout(0.1)\n",
        "        self.fc = nn.Linear(len(kernel_sizes) * hid_dim, 1)\n",
        "\n",
        "    def forward(self, x):\n",
        "        x = self.embedding(x)\n",
        "        x = x.permute(0, 2, 1)\n",
        "        x = [self.relu(conv(x)) for conv in self.conv]\n",
        "        x = [F.max_pool1d(c, c.size(-1)).squeeze(dim=-1) for c in x]\n",
        "        x = torch.cat(x, dim=1)\n",
        "        x = self.fc(self.dropout(x))\n",
        "        return x"
      ]
    },
    {
      "cell_type": "code",
      "execution_count": 26,
      "metadata": {
        "id": "byv0VXCFjRcP"
      },
      "outputs": [],
      "source": [
        "device = torch.device('cuda' if torch.cuda.is_available() else 'cpu')"
      ]
    },
    {
      "cell_type": "code",
      "execution_count": 27,
      "metadata": {
        "id": "Upa5xRUrh8TS",
        "colab": {
          "base_uri": "https://localhost:8080/"
        },
        "outputId": "188037a5-b3d0-42e7-c9e8-6018fa4e9cb6"
      },
      "outputs": [
        {
          "output_type": "stream",
          "name": "stdout",
          "text": [
            "Число параметров без эмбеддингов: 120601\n"
          ]
        }
      ],
      "source": [
        "model = CNN(vocab_size=len(dictionary), hid_dim=100).to(device)\n",
        "optimizer = torch.optim.Adam(model.parameters(), lr=1e-4, weight_decay=1e-4)\n",
        "\n",
        "n_params = sum(torch.numel(p) for p in model.parameters())\n",
        "n_emb_params = sum(torch.numel(p) for p in model.embedding.parameters())\n",
        "print(f\"Число параметров без эмбеддингов: {n_params - n_emb_params}\")"
      ]
    },
    {
      "cell_type": "markdown",
      "metadata": {
        "id": "3J03R1Mqz1v8"
      },
      "source": [
        "Обучим полученную модель на обработанных данных."
      ]
    },
    {
      "cell_type": "code",
      "execution_count": 28,
      "metadata": {
        "id": "e4BxTFEah8TS"
      },
      "outputs": [],
      "source": [
        "def train(model, dataloader, optimizer):\n",
        "    \"\"\"\n",
        "    Обучает модель (model) на всем наборе данных (dataloader).\n",
        "    \"\"\"\n",
        "    model.train()\n",
        "    criterion = nn.BCEWithLogitsLoss()\n",
        "\n",
        "    for i, (tokens, labels) in enumerate(dataloader):\n",
        "        tokens = tokens.to(device)\n",
        "        labels = labels.to(device).float()\n",
        "\n",
        "        logits = model(tokens).squeeze(1)\n",
        "        loss = criterion(logits, labels)\n",
        "\n",
        "        optimizer.zero_grad()\n",
        "        loss.backward()\n",
        "        optimizer.step()\n",
        "\n",
        "        train_accuracy = ((torch.sigmoid(logits) > 0.5) == labels).float().mean().item()\n",
        "\n",
        "        # логируем значения ошибки и точности\n",
        "        wandb.log({\n",
        "            \"train_loss\": loss.item(),\n",
        "            \"train_accuracy\": train_accuracy\n",
        "        })\n",
        "\n",
        "\n",
        "@torch.inference_mode()\n",
        "def evaluate(model, dataloader):\n",
        "    \"\"\"\n",
        "    Тестирует модель (model) на всем наборе данных (dataloader).\n",
        "    \"\"\"\n",
        "    model.eval()\n",
        "    criterion = nn.BCEWithLogitsLoss()\n",
        "\n",
        "    correct = []\n",
        "    losses = []\n",
        "    for i, (tokens, labels) in enumerate(dataloader):\n",
        "        tokens = tokens.to(device)\n",
        "        labels = labels.to(device).float()\n",
        "\n",
        "        logits = model(tokens).squeeze(1)\n",
        "        loss = criterion(logits, labels)\n",
        "\n",
        "        correct.extend(((torch.sigmoid(logits) > 0.5) == labels).float().cpu().numpy())\n",
        "        losses.append(loss.item())\n",
        "\n",
        "    mean_loss = np.mean(losses)\n",
        "    accuracy = np.mean(correct)\n",
        "\n",
        "    # логируем тестовые значения ошибки и точности\n",
        "    wandb.log({\n",
        "        \"test_loss\": mean_loss,\n",
        "        \"test_accuracy\": accuracy\n",
        "    })\n",
        "\n",
        "    return accuracy, mean_loss"
      ]
    },
    {
      "cell_type": "code",
      "execution_count": 29,
      "metadata": {
        "id": "OLpxHn6Zz1wH",
        "pycharm": {
          "is_executing": true
        },
        "colab": {
          "base_uri": "https://localhost:8080/",
          "height": 496
        },
        "outputId": "ce85c492-aab7-4560-96c6-44ab3bb63109"
      },
      "outputs": [
        {
          "output_type": "display_data",
          "data": {
            "text/plain": [
              "<IPython.core.display.HTML object>"
            ],
            "text/html": [
              "Tracking run with wandb version 0.17.3"
            ]
          },
          "metadata": {}
        },
        {
          "output_type": "display_data",
          "data": {
            "text/plain": [
              "<IPython.core.display.HTML object>"
            ],
            "text/html": [
              "Run data is saved locally in <code>/content/wandb/run-20240626_092311-zzqlvpz0</code>"
            ]
          },
          "metadata": {}
        },
        {
          "output_type": "display_data",
          "data": {
            "text/plain": [
              "<IPython.core.display.HTML object>"
            ],
            "text/html": [
              "Syncing run <strong><a href='https://wandb.ai/e-v-zgurskaya/Yelp/runs/zzqlvpz0' target=\"_blank\">cnn_simple_lr=1e-4</a></strong> to <a href='https://wandb.ai/e-v-zgurskaya/Yelp' target=\"_blank\">Weights & Biases</a> (<a href='https://wandb.me/run' target=\"_blank\">docs</a>)<br/>"
            ]
          },
          "metadata": {}
        },
        {
          "output_type": "display_data",
          "data": {
            "text/plain": [
              "<IPython.core.display.HTML object>"
            ],
            "text/html": [
              " View project at <a href='https://wandb.ai/e-v-zgurskaya/Yelp' target=\"_blank\">https://wandb.ai/e-v-zgurskaya/Yelp</a>"
            ]
          },
          "metadata": {}
        },
        {
          "output_type": "display_data",
          "data": {
            "text/plain": [
              "<IPython.core.display.HTML object>"
            ],
            "text/html": [
              " View run at <a href='https://wandb.ai/e-v-zgurskaya/Yelp/runs/zzqlvpz0' target=\"_blank\">https://wandb.ai/e-v-zgurskaya/Yelp/runs/zzqlvpz0</a>"
            ]
          },
          "metadata": {}
        },
        {
          "output_type": "stream",
          "name": "stderr",
          "text": [
            "/usr/local/lib/python3.10/dist-packages/torch/autograd/graph.py:744: UserWarning: Plan failed with a cudnnException: CUDNN_BACKEND_EXECUTION_PLAN_DESCRIPTOR: cudnnFinalize Descriptor Failed cudnn_status: CUDNN_STATUS_NOT_SUPPORTED (Triggered internally at ../aten/src/ATen/native/cudnn/Conv_v8.cpp:919.)\n",
            "  return Variable._execution_engine.run_backward(  # Calls into the C++ engine to run the backward pass\n"
          ]
        },
        {
          "output_type": "stream",
          "name": "stdout",
          "text": [
            "Epoch 1, Test Accuracy: 0.9170, Test Loss: 0.2143\n",
            "Epoch 2, Test Accuracy: 0.9360, Test Loss: 0.1622\n",
            "Epoch 3, Test Accuracy: 0.9410, Test Loss: 0.1369\n",
            "Epoch 4, Test Accuracy: 0.9470, Test Loss: 0.1179\n",
            "Epoch 5, Test Accuracy: 0.9550, Test Loss: 0.1019\n",
            "Epoch 6, Test Accuracy: 0.9570, Test Loss: 0.0980\n",
            "Epoch 7, Test Accuracy: 0.9550, Test Loss: 0.0960\n",
            "Epoch 8, Test Accuracy: 0.9620, Test Loss: 0.0896\n",
            "Epoch 9, Test Accuracy: 0.9600, Test Loss: 0.0880\n",
            "Epoch 10, Test Accuracy: 0.9630, Test Loss: 0.0849\n",
            "Epoch 11, Test Accuracy: 0.9630, Test Loss: 0.0824\n",
            "Epoch 12, Test Accuracy: 0.9650, Test Loss: 0.0832\n",
            "Epoch 13, Test Accuracy: 0.9670, Test Loss: 0.0789\n",
            "Epoch 14, Test Accuracy: 0.9690, Test Loss: 0.0784\n",
            "Epoch 15, Test Accuracy: 0.9660, Test Loss: 0.0803\n",
            "Epoch 16, Test Accuracy: 0.9660, Test Loss: 0.0770\n",
            "Epoch 17, Test Accuracy: 0.9670, Test Loss: 0.0778\n",
            "Epoch 18, Test Accuracy: 0.9660, Test Loss: 0.0777\n",
            "Epoch 19, Test Accuracy: 0.9680, Test Loss: 0.0755\n",
            "Epoch 20, Test Accuracy: 0.9670, Test Loss: 0.0762\n"
          ]
        }
      ],
      "source": [
        "wandb.login()\n",
        "wandb.init(project='Yelp', name='cnn_simple_lr=1e-4')\n",
        "\n",
        "for epoch in range(20):\n",
        "    train(model, train_loader, optimizer)\n",
        "    test_acc, test_loss = evaluate(model, test_loader)\n",
        "    print(f\"Epoch {epoch+1}, Test Accuracy: {test_acc:.4f}, Test Loss: {test_loss:.4f}\")"
      ]
    },
    {
      "cell_type": "markdown",
      "source": [
        "При текущей архитектуре и конфигурации сети (dropout=0.1, lr=1e-4) получили accuracy = 0.967 на 20 эпохе.\n",
        "\n",
        "Изменим пока только dropout до 0.3 и проверим поможет ли это:"
      ],
      "metadata": {
        "id": "0KxpVl09CZba"
      }
    },
    {
      "cell_type": "code",
      "source": [
        "class CNN(nn.Module):\n",
        "    def __init__(self, vocab_size, hid_dim, kernel_sizes=[3, 4, 5]):\n",
        "        super().__init__()\n",
        "\n",
        "        self.embedding = nn.Embedding(vocab_size, hid_dim)\n",
        "\n",
        "        self.conv = nn.ModuleList([\n",
        "            nn.Conv1d(in_channels=hid_dim, out_channels=hid_dim, kernel_size=k) for k in kernel_sizes\n",
        "        ])\n",
        "        self.relu = nn.ReLU()\n",
        "        self.dropout = nn.Dropout(0.3)\n",
        "        self.fc = nn.Linear(len(kernel_sizes) * hid_dim, 1)\n",
        "\n",
        "    def forward(self, x):\n",
        "        x = self.embedding(x)\n",
        "        x = x.permute(0, 2, 1)\n",
        "        x = [self.relu(conv(x)) for conv in self.conv]\n",
        "        x = [F.max_pool1d(c, c.size(-1)).squeeze(dim=-1) for c in x]\n",
        "        x = torch.cat(x, dim=1)\n",
        "        x = self.fc(self.dropout(x))\n",
        "        return x"
      ],
      "metadata": {
        "id": "SrIWTDlk5VKZ"
      },
      "execution_count": 31,
      "outputs": []
    },
    {
      "cell_type": "code",
      "source": [
        "model = CNN(vocab_size=len(dictionary), hid_dim=100).to(device)\n",
        "optimizer = torch.optim.Adam(model.parameters(), lr=1e-4, weight_decay=1e-4)\n",
        "wandb.init(project='Yelp', name='cnn_simple_lr=1e-4_dropout=0.3')\n",
        "\n",
        "for epoch in range(20):\n",
        "    train(model, train_loader, optimizer)\n",
        "    test_acc, test_loss = evaluate(model, test_loader)\n",
        "    print(f\"Epoch {epoch+1}, Test Accuracy: {test_acc:.4f}, Test Loss: {test_loss:.4f}\")\n",
        "\n",
        "wandb.finish()"
      ],
      "metadata": {
        "colab": {
          "base_uri": "https://localhost:8080/",
          "height": 1000,
          "referenced_widgets": [
            "70de792849514e3689fd0a1edd43cc24",
            "7b7e83ea129b487eb6abd09d118b4d96",
            "aa76ef2fa5e8467a984c2612325d9309",
            "e46f943b348f42c2b317a00774e66272",
            "930af57b02684812989505f9029262cf",
            "708263bc415d43eb95c25ff8e89e7359",
            "557aaebec79a4b289d2cba3cef7573fe",
            "1948af7d7e2a4c26a0fa0dc5bb717636",
            "e6976ee2f79c47d8968fcec77e813e45",
            "acab143c488647479f3fc1b33428b9f1",
            "285794861aaf42a3848d3fbfe19ac172",
            "e843025862004af8b81b8eea1883fb73",
            "c06427b4922e4385afd41cc90088bf62",
            "c27b87edf970460a81035e011ff7c4ea",
            "1ba433ce39b84bb8a84e96b4a803bfae",
            "e1b2af4efd824352aa89c16c451c7376"
          ]
        },
        "id": "VVd5IIgj5VN8",
        "outputId": "4502c223-0ed9-42ab-a85e-0431d72d4e02"
      },
      "execution_count": 32,
      "outputs": [
        {
          "output_type": "display_data",
          "data": {
            "text/plain": [
              "<IPython.core.display.HTML object>"
            ],
            "text/html": [
              "Finishing last run (ID:zzqlvpz0) before initializing another..."
            ]
          },
          "metadata": {}
        },
        {
          "output_type": "display_data",
          "data": {
            "text/plain": [
              "VBox(children=(Label(value='0.012 MB of 0.012 MB uploaded\\r'), FloatProgress(value=1.0, max=1.0)))"
            ],
            "application/vnd.jupyter.widget-view+json": {
              "version_major": 2,
              "version_minor": 0,
              "model_id": "70de792849514e3689fd0a1edd43cc24"
            }
          },
          "metadata": {}
        },
        {
          "output_type": "display_data",
          "data": {
            "text/plain": [
              "<IPython.core.display.HTML object>"
            ],
            "text/html": [
              "<style>\n",
              "    table.wandb td:nth-child(1) { padding: 0 10px; text-align: left ; width: auto;} td:nth-child(2) {text-align: left ; width: 100%}\n",
              "    .wandb-row { display: flex; flex-direction: row; flex-wrap: wrap; justify-content: flex-start; width: 100% }\n",
              "    .wandb-col { display: flex; flex-direction: column; flex-basis: 100%; flex: 1; padding: 10px; }\n",
              "    </style>\n",
              "<div class=\"wandb-row\"><div class=\"wandb-col\"><h3>Run history:</h3><br/><table class=\"wandb\"><tr><td>test_accuracy</td><td>▁▄▄▅▆▆▆▇▇▇▇▇████████</td></tr><tr><td>test_loss</td><td>█▅▄▃▂▂▂▂▂▁▁▁▁▁▁▁▁▁▁▁</td></tr><tr><td>train_accuracy</td><td>▁▃▆▅▇▆▇▆█▇▆▆▇▇▇▆▇▇█▇█▇▇▆▇▇█▆██▇▆▇█▇▇███▇</td></tr><tr><td>train_loss</td><td>█▅▄▄▂▃▂▃▂▃▃▃▃▂▂▂▃▂▂▃▂▂▂▃▂▃▁▂▁▂▁▃▂▁▂▂▁▁▁▁</td></tr></table><br/></div><div class=\"wandb-col\"><h3>Run summary:</h3><br/><table class=\"wandb\"><tr><td>test_accuracy</td><td>0.967</td></tr><tr><td>test_loss</td><td>0.07623</td></tr><tr><td>train_accuracy</td><td>0.98374</td></tr><tr><td>train_loss</td><td>0.04567</td></tr></table><br/></div></div>"
            ]
          },
          "metadata": {}
        },
        {
          "output_type": "display_data",
          "data": {
            "text/plain": [
              "<IPython.core.display.HTML object>"
            ],
            "text/html": [
              " View run <strong style=\"color:#cdcd00\">cnn_simple_lr=1e-4</strong> at: <a href='https://wandb.ai/e-v-zgurskaya/Yelp/runs/zzqlvpz0' target=\"_blank\">https://wandb.ai/e-v-zgurskaya/Yelp/runs/zzqlvpz0</a><br/> View project at: <a href='https://wandb.ai/e-v-zgurskaya/Yelp' target=\"_blank\">https://wandb.ai/e-v-zgurskaya/Yelp</a><br/>Synced 5 W&B file(s), 0 media file(s), 0 artifact file(s) and 0 other file(s)"
            ]
          },
          "metadata": {}
        },
        {
          "output_type": "display_data",
          "data": {
            "text/plain": [
              "<IPython.core.display.HTML object>"
            ],
            "text/html": [
              "Find logs at: <code>./wandb/run-20240626_092311-zzqlvpz0/logs</code>"
            ]
          },
          "metadata": {}
        },
        {
          "output_type": "display_data",
          "data": {
            "text/plain": [
              "<IPython.core.display.HTML object>"
            ],
            "text/html": [
              "The new W&B backend becomes opt-out in version 0.18.0; try it out with `wandb.require(\"core\")`! See https://wandb.me/wandb-core for more information."
            ]
          },
          "metadata": {}
        },
        {
          "output_type": "display_data",
          "data": {
            "text/plain": [
              "<IPython.core.display.HTML object>"
            ],
            "text/html": [
              "Successfully finished last run (ID:zzqlvpz0). Initializing new run:<br/>"
            ]
          },
          "metadata": {}
        },
        {
          "output_type": "display_data",
          "data": {
            "text/plain": [
              "<IPython.core.display.HTML object>"
            ],
            "text/html": [
              "Tracking run with wandb version 0.17.3"
            ]
          },
          "metadata": {}
        },
        {
          "output_type": "display_data",
          "data": {
            "text/plain": [
              "<IPython.core.display.HTML object>"
            ],
            "text/html": [
              "Run data is saved locally in <code>/content/wandb/run-20240626_093525-cmwtevqu</code>"
            ]
          },
          "metadata": {}
        },
        {
          "output_type": "display_data",
          "data": {
            "text/plain": [
              "<IPython.core.display.HTML object>"
            ],
            "text/html": [
              "Syncing run <strong><a href='https://wandb.ai/e-v-zgurskaya/Yelp/runs/cmwtevqu' target=\"_blank\">cnn_simple_lr=1e-4_dropout=0.3</a></strong> to <a href='https://wandb.ai/e-v-zgurskaya/Yelp' target=\"_blank\">Weights & Biases</a> (<a href='https://wandb.me/run' target=\"_blank\">docs</a>)<br/>"
            ]
          },
          "metadata": {}
        },
        {
          "output_type": "display_data",
          "data": {
            "text/plain": [
              "<IPython.core.display.HTML object>"
            ],
            "text/html": [
              " View project at <a href='https://wandb.ai/e-v-zgurskaya/Yelp' target=\"_blank\">https://wandb.ai/e-v-zgurskaya/Yelp</a>"
            ]
          },
          "metadata": {}
        },
        {
          "output_type": "display_data",
          "data": {
            "text/plain": [
              "<IPython.core.display.HTML object>"
            ],
            "text/html": [
              " View run at <a href='https://wandb.ai/e-v-zgurskaya/Yelp/runs/cmwtevqu' target=\"_blank\">https://wandb.ai/e-v-zgurskaya/Yelp/runs/cmwtevqu</a>"
            ]
          },
          "metadata": {}
        },
        {
          "output_type": "stream",
          "name": "stdout",
          "text": [
            "Epoch 1, Test Accuracy: 0.9080, Test Loss: 0.2396\n",
            "Epoch 2, Test Accuracy: 0.9300, Test Loss: 0.1794\n"
          ]
        },
        {
          "output_type": "stream",
          "name": "stderr",
          "text": [
            "/usr/local/lib/python3.10/dist-packages/torch/autograd/graph.py:744: UserWarning: Plan failed with a cudnnException: CUDNN_BACKEND_EXECUTION_PLAN_DESCRIPTOR: cudnnFinalize Descriptor Failed cudnn_status: CUDNN_STATUS_NOT_SUPPORTED (Triggered internally at ../aten/src/ATen/native/cudnn/Conv_v8.cpp:919.)\n",
            "  return Variable._execution_engine.run_backward(  # Calls into the C++ engine to run the backward pass\n"
          ]
        },
        {
          "output_type": "stream",
          "name": "stdout",
          "text": [
            "Epoch 3, Test Accuracy: 0.9350, Test Loss: 0.1583\n",
            "Epoch 4, Test Accuracy: 0.9430, Test Loss: 0.1298\n",
            "Epoch 5, Test Accuracy: 0.9500, Test Loss: 0.1142\n",
            "Epoch 6, Test Accuracy: 0.9580, Test Loss: 0.1046\n",
            "Epoch 7, Test Accuracy: 0.9600, Test Loss: 0.0945\n",
            "Epoch 8, Test Accuracy: 0.9610, Test Loss: 0.0920\n",
            "Epoch 9, Test Accuracy: 0.9600, Test Loss: 0.0865\n",
            "Epoch 10, Test Accuracy: 0.9610, Test Loss: 0.0875\n",
            "Epoch 11, Test Accuracy: 0.9650, Test Loss: 0.0856\n",
            "Epoch 12, Test Accuracy: 0.9670, Test Loss: 0.0826\n",
            "Epoch 13, Test Accuracy: 0.9670, Test Loss: 0.0806\n",
            "Epoch 14, Test Accuracy: 0.9620, Test Loss: 0.0812\n",
            "Epoch 15, Test Accuracy: 0.9640, Test Loss: 0.0847\n",
            "Epoch 16, Test Accuracy: 0.9630, Test Loss: 0.0839\n",
            "Epoch 17, Test Accuracy: 0.9620, Test Loss: 0.0889\n",
            "Epoch 18, Test Accuracy: 0.9660, Test Loss: 0.0833\n",
            "Epoch 19, Test Accuracy: 0.9700, Test Loss: 0.0770\n",
            "Epoch 20, Test Accuracy: 0.9680, Test Loss: 0.0760\n"
          ]
        },
        {
          "output_type": "display_data",
          "data": {
            "text/plain": [
              "VBox(children=(Label(value='0.001 MB of 0.001 MB uploaded\\r'), FloatProgress(value=1.0, max=1.0)))"
            ],
            "application/vnd.jupyter.widget-view+json": {
              "version_major": 2,
              "version_minor": 0,
              "model_id": "e6976ee2f79c47d8968fcec77e813e45"
            }
          },
          "metadata": {}
        },
        {
          "output_type": "display_data",
          "data": {
            "text/plain": [
              "<IPython.core.display.HTML object>"
            ],
            "text/html": [
              "<style>\n",
              "    table.wandb td:nth-child(1) { padding: 0 10px; text-align: left ; width: auto;} td:nth-child(2) {text-align: left ; width: 100%}\n",
              "    .wandb-row { display: flex; flex-direction: row; flex-wrap: wrap; justify-content: flex-start; width: 100% }\n",
              "    .wandb-col { display: flex; flex-direction: column; flex-basis: 100%; flex: 1; padding: 10px; }\n",
              "    </style>\n",
              "<div class=\"wandb-row\"><div class=\"wandb-col\"><h3>Run history:</h3><br/><table class=\"wandb\"><tr><td>test_accuracy</td><td>▁▃▄▅▆▇▇▇▇▇▇██▇▇▇▇███</td></tr><tr><td>test_loss</td><td>█▅▅▃▃▂▂▂▁▁▁▁▁▁▁▁▂▁▁▁</td></tr><tr><td>train_accuracy</td><td>▁▂▅▆▄▅▆▅▆▅▅▅▅▆▆▆▇▆█▇▆▆▆▇▆▇█▆▇█▆█▇▇█▆█▆██</td></tr><tr><td>train_loss</td><td>█▆▄▄▅▃▂▃▂▃▂▂▃▃▂▂▂▂▁▂▂▂▂▂▃▁▁▂▂▁▂▁▂▂▁▂▁▃▁▁</td></tr></table><br/></div><div class=\"wandb-col\"><h3>Run summary:</h3><br/><table class=\"wandb\"><tr><td>test_accuracy</td><td>0.968</td></tr><tr><td>test_loss</td><td>0.07595</td></tr><tr><td>train_accuracy</td><td>0.97561</td></tr><tr><td>train_loss</td><td>0.05648</td></tr></table><br/></div></div>"
            ]
          },
          "metadata": {}
        },
        {
          "output_type": "display_data",
          "data": {
            "text/plain": [
              "<IPython.core.display.HTML object>"
            ],
            "text/html": [
              " View run <strong style=\"color:#cdcd00\">cnn_simple_lr=1e-4_dropout=0.3</strong> at: <a href='https://wandb.ai/e-v-zgurskaya/Yelp/runs/cmwtevqu' target=\"_blank\">https://wandb.ai/e-v-zgurskaya/Yelp/runs/cmwtevqu</a><br/> View project at: <a href='https://wandb.ai/e-v-zgurskaya/Yelp' target=\"_blank\">https://wandb.ai/e-v-zgurskaya/Yelp</a><br/>Synced 5 W&B file(s), 0 media file(s), 0 artifact file(s) and 0 other file(s)"
            ]
          },
          "metadata": {}
        },
        {
          "output_type": "display_data",
          "data": {
            "text/plain": [
              "<IPython.core.display.HTML object>"
            ],
            "text/html": [
              "Find logs at: <code>./wandb/run-20240626_093525-cmwtevqu/logs</code>"
            ]
          },
          "metadata": {}
        },
        {
          "output_type": "display_data",
          "data": {
            "text/plain": [
              "<IPython.core.display.HTML object>"
            ],
            "text/html": [
              "The new W&B backend becomes opt-out in version 0.18.0; try it out with `wandb.require(\"core\")`! See https://wandb.me/wandb-core for more information."
            ]
          },
          "metadata": {}
        }
      ]
    },
    {
      "cell_type": "markdown",
      "source": [
        "При dropout=0.3 и lr=1e-4 получили accuracy = 0.968 на 20 эпохе. Незначительно лучше.\n",
        "\n",
        "Попробуем изменить learning rate на 5e-4:"
      ],
      "metadata": {
        "id": "u14VYn7zOibC"
      }
    },
    {
      "cell_type": "code",
      "source": [
        "model = CNN(vocab_size=len(dictionary), hid_dim=100).to(device)\n",
        "optimizer = torch.optim.Adam(model.parameters(), lr=5e-4, weight_decay=1e-4)\n",
        "wandb.init(project='Yelp', name='cnn_simple_lr=5e-4')\n",
        "\n",
        "for epoch in range(20):\n",
        "    train(model, train_loader, optimizer)\n",
        "    test_acc, test_loss = evaluate(model, test_loader)\n",
        "    print(f\"Epoch {epoch+1}, Test Accuracy: {test_acc:.4f}, Test Loss: {test_loss:.4f}\")\n",
        "\n",
        "wandb.finish()"
      ],
      "metadata": {
        "colab": {
          "base_uri": "https://localhost:8080/",
          "height": 905,
          "referenced_widgets": [
            "29656ce203414fcca0338bc49b57f4f3",
            "308fd371fbd0451e872fe3d6b766d463",
            "c205f1ed2823495c941cb80ba75fc5d4",
            "d1a8b25dfd0540a4802439c8a7bdae27",
            "6f43054c64634a559a471f97303e5911",
            "3b97ef8565de41aa8a10c43f91664be6",
            "f8a5a131594040148710cff6270b77b2",
            "618076ce7b6a423b8d40a047c801eed8"
          ]
        },
        "id": "l7qkE0G3OVxx",
        "outputId": "801d25e4-9902-4802-8492-2d672445e189"
      },
      "execution_count": 33,
      "outputs": [
        {
          "output_type": "display_data",
          "data": {
            "text/plain": [
              "<IPython.core.display.HTML object>"
            ],
            "text/html": [
              "Tracking run with wandb version 0.17.3"
            ]
          },
          "metadata": {}
        },
        {
          "output_type": "display_data",
          "data": {
            "text/plain": [
              "<IPython.core.display.HTML object>"
            ],
            "text/html": [
              "Run data is saved locally in <code>/content/wandb/run-20240626_094741-cqir40wz</code>"
            ]
          },
          "metadata": {}
        },
        {
          "output_type": "display_data",
          "data": {
            "text/plain": [
              "<IPython.core.display.HTML object>"
            ],
            "text/html": [
              "Syncing run <strong><a href='https://wandb.ai/e-v-zgurskaya/Yelp/runs/cqir40wz' target=\"_blank\">cnn_simple_lr=5e-4</a></strong> to <a href='https://wandb.ai/e-v-zgurskaya/Yelp' target=\"_blank\">Weights & Biases</a> (<a href='https://wandb.me/run' target=\"_blank\">docs</a>)<br/>"
            ]
          },
          "metadata": {}
        },
        {
          "output_type": "display_data",
          "data": {
            "text/plain": [
              "<IPython.core.display.HTML object>"
            ],
            "text/html": [
              " View project at <a href='https://wandb.ai/e-v-zgurskaya/Yelp' target=\"_blank\">https://wandb.ai/e-v-zgurskaya/Yelp</a>"
            ]
          },
          "metadata": {}
        },
        {
          "output_type": "display_data",
          "data": {
            "text/plain": [
              "<IPython.core.display.HTML object>"
            ],
            "text/html": [
              " View run at <a href='https://wandb.ai/e-v-zgurskaya/Yelp/runs/cqir40wz' target=\"_blank\">https://wandb.ai/e-v-zgurskaya/Yelp/runs/cqir40wz</a>"
            ]
          },
          "metadata": {}
        },
        {
          "output_type": "stream",
          "name": "stdout",
          "text": [
            "Epoch 1, Test Accuracy: 0.9570, Test Loss: 0.1129\n",
            "Epoch 2, Test Accuracy: 0.9660, Test Loss: 0.0963\n",
            "Epoch 3, Test Accuracy: 0.9610, Test Loss: 0.1017\n",
            "Epoch 4, Test Accuracy: 0.9610, Test Loss: 0.0901\n",
            "Epoch 5, Test Accuracy: 0.9630, Test Loss: 0.0891\n",
            "Epoch 6, Test Accuracy: 0.9620, Test Loss: 0.0870\n",
            "Epoch 7, Test Accuracy: 0.9650, Test Loss: 0.0887\n",
            "Epoch 8, Test Accuracy: 0.9640, Test Loss: 0.0840\n",
            "Epoch 9, Test Accuracy: 0.9650, Test Loss: 0.0808\n",
            "Epoch 10, Test Accuracy: 0.9660, Test Loss: 0.0851\n",
            "Epoch 11, Test Accuracy: 0.9680, Test Loss: 0.0875\n",
            "Epoch 12, Test Accuracy: 0.9680, Test Loss: 0.0822\n",
            "Epoch 13, Test Accuracy: 0.9680, Test Loss: 0.0839\n",
            "Epoch 14, Test Accuracy: 0.9710, Test Loss: 0.0826\n",
            "Epoch 15, Test Accuracy: 0.9710, Test Loss: 0.0757\n",
            "Epoch 16, Test Accuracy: 0.9710, Test Loss: 0.0781\n",
            "Epoch 17, Test Accuracy: 0.9680, Test Loss: 0.0805\n",
            "Epoch 18, Test Accuracy: 0.9680, Test Loss: 0.0795\n",
            "Epoch 19, Test Accuracy: 0.9720, Test Loss: 0.0794\n",
            "Epoch 20, Test Accuracy: 0.9700, Test Loss: 0.0735\n"
          ]
        },
        {
          "output_type": "display_data",
          "data": {
            "text/plain": [
              "VBox(children=(Label(value='0.001 MB of 0.001 MB uploaded\\r'), FloatProgress(value=1.0, max=1.0)))"
            ],
            "application/vnd.jupyter.widget-view+json": {
              "version_major": 2,
              "version_minor": 0,
              "model_id": "29656ce203414fcca0338bc49b57f4f3"
            }
          },
          "metadata": {}
        },
        {
          "output_type": "display_data",
          "data": {
            "text/plain": [
              "<IPython.core.display.HTML object>"
            ],
            "text/html": [
              "<style>\n",
              "    table.wandb td:nth-child(1) { padding: 0 10px; text-align: left ; width: auto;} td:nth-child(2) {text-align: left ; width: 100%}\n",
              "    .wandb-row { display: flex; flex-direction: row; flex-wrap: wrap; justify-content: flex-start; width: 100% }\n",
              "    .wandb-col { display: flex; flex-direction: column; flex-basis: 100%; flex: 1; padding: 10px; }\n",
              "    </style>\n",
              "<div class=\"wandb-row\"><div class=\"wandb-col\"><h3>Run history:</h3><br/><table class=\"wandb\"><tr><td>test_accuracy</td><td>▁▅▃▃▄▃▅▄▅▅▆▆▆███▆▆█▇</td></tr><tr><td>test_loss</td><td>█▅▆▄▄▃▄▃▂▃▃▃▃▃▁▂▂▂▂▁</td></tr><tr><td>train_accuracy</td><td>▁▃▇█▆▅█▇▇▄▆▆▅▆▇▃▇▄▅▇█▇▇▇▆█▇▆▇▇▆▇▇▇▇▇▄▇▆▇</td></tr><tr><td>train_loss</td><td>█▅▄▂▃▄▂▂▁▄▃▂▅▂▃▅▂▄▂▂▂▁▃▃▂▁▂▃▂▂▂▂▂▃▂▂▃▂▃▂</td></tr></table><br/></div><div class=\"wandb-col\"><h3>Run summary:</h3><br/><table class=\"wandb\"><tr><td>test_accuracy</td><td>0.97</td></tr><tr><td>test_loss</td><td>0.07349</td></tr><tr><td>train_accuracy</td><td>0.95122</td></tr><tr><td>train_loss</td><td>0.20162</td></tr></table><br/></div></div>"
            ]
          },
          "metadata": {}
        },
        {
          "output_type": "display_data",
          "data": {
            "text/plain": [
              "<IPython.core.display.HTML object>"
            ],
            "text/html": [
              " View run <strong style=\"color:#cdcd00\">cnn_simple_lr=5e-4</strong> at: <a href='https://wandb.ai/e-v-zgurskaya/Yelp/runs/cqir40wz' target=\"_blank\">https://wandb.ai/e-v-zgurskaya/Yelp/runs/cqir40wz</a><br/> View project at: <a href='https://wandb.ai/e-v-zgurskaya/Yelp' target=\"_blank\">https://wandb.ai/e-v-zgurskaya/Yelp</a><br/>Synced 5 W&B file(s), 0 media file(s), 0 artifact file(s) and 0 other file(s)"
            ]
          },
          "metadata": {}
        },
        {
          "output_type": "display_data",
          "data": {
            "text/plain": [
              "<IPython.core.display.HTML object>"
            ],
            "text/html": [
              "Find logs at: <code>./wandb/run-20240626_094741-cqir40wz/logs</code>"
            ]
          },
          "metadata": {}
        },
        {
          "output_type": "display_data",
          "data": {
            "text/plain": [
              "<IPython.core.display.HTML object>"
            ],
            "text/html": [
              "The new W&B backend becomes opt-out in version 0.18.0; try it out with `wandb.require(\"core\")`! See https://wandb.me/wandb-core for more information."
            ]
          },
          "metadata": {}
        }
      ]
    },
    {
      "cell_type": "markdown",
      "source": [
        "При dropout=0.3 и lr=5e-4 получили accuracy = 0.97 на 20 эпохе, что лучше предыдущих попыток, но незначительно."
      ],
      "metadata": {
        "id": "n3YR4AepVx0q"
      }
    },
    {
      "cell_type": "markdown",
      "metadata": {
        "id": "5lw_pg8kz1wH"
      },
      "source": [
        "Сверточная модель хорошо улавливает контекстную информацию для каждого слова. Однако ее проблема заключается в аггрегировании выхода сверток в один вектор. При суммировании важная информация смешивается с бесполезной, почти то же самое происходит и с max-pooling.  \n",
        "\n",
        "Для решения этой проблемы добавим подобие механизма внимания."
      ]
    },
    {
      "cell_type": "code",
      "execution_count": 46,
      "metadata": {
        "id": "g2e3el8oh8TS"
      },
      "outputs": [],
      "source": [
        "class AttentionCNN(CNN):\n",
        "    def __init__(self, vocab_size, hid_dim, kernel_sizes=[3, 4, 5]):\n",
        "        super().__init__(vocab_size, hid_dim, kernel_sizes)\n",
        "\n",
        "        self.attention = nn.ModuleList([\n",
        "            nn.Linear(hid_dim, 1) for _ in kernel_sizes\n",
        "        ])\n",
        "\n",
        "        self.dropout = nn.Dropout(0.1)  # Изменено значение dropout c 0.3 на 0.1\n",
        "\n",
        "\n",
        "    def forward(self, x):\n",
        "        x = self.embedding(x)\n",
        "        x = x.permute(0, 2, 1)\n",
        "        conv_outs = [self.relu(conv(x)) for conv in self.conv]\n",
        "\n",
        "        # внимание\n",
        "        attention_weights = [torch.softmax(self.attention[i](conv_out.permute(0, 2, 1)), dim=1) for i, conv_out in enumerate(conv_outs)]\n",
        "        attention_outs = [torch.sum(conv_out * attn_w.permute(0, 2, 1), dim=2) for conv_out, attn_w in zip(conv_outs, attention_weights)]\n",
        "\n",
        "        x = torch.cat(attention_outs, dim=1)\n",
        "        x = self.fc(self.dropout(x))\n",
        "        return x"
      ]
    },
    {
      "cell_type": "code",
      "execution_count": 47,
      "metadata": {
        "id": "AB35jZh0h8TT",
        "colab": {
          "base_uri": "https://localhost:8080/",
          "height": 905,
          "referenced_widgets": [
            "271483bc14ce44c3a8e041f503c37282",
            "1d826006a7b4431da71d00f63fcdaa9c",
            "0180a53bdb404dbbb210b6e17c19659e",
            "015a56eab344429ab5dcdd6444e35108",
            "495b09725b864eae8c83274c471d8596",
            "0fe423922cd7434cbaa444ac325cfd1f",
            "1b2254d52e894c8680c584a314c923db",
            "b42e1060a5aa414f89703901c197ad23"
          ]
        },
        "outputId": "df1da571-d31f-4be3-b2ef-eb4e0c335625"
      },
      "outputs": [
        {
          "output_type": "display_data",
          "data": {
            "text/plain": [
              "<IPython.core.display.HTML object>"
            ],
            "text/html": [
              "Tracking run with wandb version 0.17.3"
            ]
          },
          "metadata": {}
        },
        {
          "output_type": "display_data",
          "data": {
            "text/plain": [
              "<IPython.core.display.HTML object>"
            ],
            "text/html": [
              "Run data is saved locally in <code>/content/wandb/run-20240626_103343-d0bkmyca</code>"
            ]
          },
          "metadata": {}
        },
        {
          "output_type": "display_data",
          "data": {
            "text/plain": [
              "<IPython.core.display.HTML object>"
            ],
            "text/html": [
              "Syncing run <strong><a href='https://wandb.ai/e-v-zgurskaya/Yelp/runs/d0bkmyca' target=\"_blank\">AttentionСNN_lr=5e-4_dropout=0.1</a></strong> to <a href='https://wandb.ai/e-v-zgurskaya/Yelp' target=\"_blank\">Weights & Biases</a> (<a href='https://wandb.me/run' target=\"_blank\">docs</a>)<br/>"
            ]
          },
          "metadata": {}
        },
        {
          "output_type": "display_data",
          "data": {
            "text/plain": [
              "<IPython.core.display.HTML object>"
            ],
            "text/html": [
              " View project at <a href='https://wandb.ai/e-v-zgurskaya/Yelp' target=\"_blank\">https://wandb.ai/e-v-zgurskaya/Yelp</a>"
            ]
          },
          "metadata": {}
        },
        {
          "output_type": "display_data",
          "data": {
            "text/plain": [
              "<IPython.core.display.HTML object>"
            ],
            "text/html": [
              " View run at <a href='https://wandb.ai/e-v-zgurskaya/Yelp/runs/d0bkmyca' target=\"_blank\">https://wandb.ai/e-v-zgurskaya/Yelp/runs/d0bkmyca</a>"
            ]
          },
          "metadata": {}
        },
        {
          "output_type": "stream",
          "name": "stdout",
          "text": [
            "Epoch 1, Test Accuracy: 0.9560, Test Loss: 0.1129\n",
            "Epoch 2, Test Accuracy: 0.9650, Test Loss: 0.0946\n",
            "Epoch 3, Test Accuracy: 0.9680, Test Loss: 0.0877\n",
            "Epoch 4, Test Accuracy: 0.9670, Test Loss: 0.0892\n",
            "Epoch 5, Test Accuracy: 0.9690, Test Loss: 0.0842\n",
            "Epoch 6, Test Accuracy: 0.9690, Test Loss: 0.0862\n",
            "Epoch 7, Test Accuracy: 0.9720, Test Loss: 0.0878\n",
            "Epoch 8, Test Accuracy: 0.9710, Test Loss: 0.0829\n",
            "Epoch 9, Test Accuracy: 0.9660, Test Loss: 0.0864\n",
            "Epoch 10, Test Accuracy: 0.9680, Test Loss: 0.0769\n",
            "Epoch 11, Test Accuracy: 0.9700, Test Loss: 0.0777\n",
            "Epoch 12, Test Accuracy: 0.9730, Test Loss: 0.0849\n",
            "Epoch 13, Test Accuracy: 0.9690, Test Loss: 0.0814\n",
            "Epoch 14, Test Accuracy: 0.9660, Test Loss: 0.0877\n",
            "Epoch 15, Test Accuracy: 0.9730, Test Loss: 0.0808\n",
            "Epoch 16, Test Accuracy: 0.9680, Test Loss: 0.0770\n",
            "Epoch 17, Test Accuracy: 0.9690, Test Loss: 0.0835\n",
            "Epoch 18, Test Accuracy: 0.9760, Test Loss: 0.0728\n",
            "Epoch 19, Test Accuracy: 0.9680, Test Loss: 0.0784\n",
            "Epoch 20, Test Accuracy: 0.9720, Test Loss: 0.0793\n"
          ]
        },
        {
          "output_type": "display_data",
          "data": {
            "text/plain": [
              "VBox(children=(Label(value='0.001 MB of 0.001 MB uploaded\\r'), FloatProgress(value=1.0, max=1.0)))"
            ],
            "application/vnd.jupyter.widget-view+json": {
              "version_major": 2,
              "version_minor": 0,
              "model_id": "271483bc14ce44c3a8e041f503c37282"
            }
          },
          "metadata": {}
        },
        {
          "output_type": "display_data",
          "data": {
            "text/plain": [
              "<IPython.core.display.HTML object>"
            ],
            "text/html": [
              "<style>\n",
              "    table.wandb td:nth-child(1) { padding: 0 10px; text-align: left ; width: auto;} td:nth-child(2) {text-align: left ; width: 100%}\n",
              "    .wandb-row { display: flex; flex-direction: row; flex-wrap: wrap; justify-content: flex-start; width: 100% }\n",
              "    .wandb-col { display: flex; flex-direction: column; flex-basis: 100%; flex: 1; padding: 10px; }\n",
              "    </style>\n",
              "<div class=\"wandb-row\"><div class=\"wandb-col\"><h3>Run history:</h3><br/><table class=\"wandb\"><tr><td>test_accuracy</td><td>▁▄▅▅▆▆▇▆▅▅▆▇▆▅▇▅▆█▅▇</td></tr><tr><td>test_loss</td><td>█▅▄▄▃▃▄▃▃▂▂▃▂▄▂▂▃▁▂▂</td></tr><tr><td>train_accuracy</td><td>▁▄▆███▅█▆▅▆▄▇▇▆▆▇▇▇▇▆▇▇▆▆▆▇▇█▇█▆███▆▆▇▇▆</td></tr><tr><td>train_loss</td><td>█▅▃▃▁▂▄▂▂▄▃▅▂▂▃▄▂▂▂▂▅▂▂▃▃▄▂▃▂▃▁▂▁▁▁▂▄▃▃▃</td></tr></table><br/></div><div class=\"wandb-col\"><h3>Run summary:</h3><br/><table class=\"wandb\"><tr><td>test_accuracy</td><td>0.972</td></tr><tr><td>test_loss</td><td>0.07933</td></tr><tr><td>train_accuracy</td><td>0.95935</td></tr><tr><td>train_loss</td><td>0.09902</td></tr></table><br/></div></div>"
            ]
          },
          "metadata": {}
        },
        {
          "output_type": "display_data",
          "data": {
            "text/plain": [
              "<IPython.core.display.HTML object>"
            ],
            "text/html": [
              " View run <strong style=\"color:#cdcd00\">AttentionСNN_lr=5e-4_dropout=0.1</strong> at: <a href='https://wandb.ai/e-v-zgurskaya/Yelp/runs/d0bkmyca' target=\"_blank\">https://wandb.ai/e-v-zgurskaya/Yelp/runs/d0bkmyca</a><br/> View project at: <a href='https://wandb.ai/e-v-zgurskaya/Yelp' target=\"_blank\">https://wandb.ai/e-v-zgurskaya/Yelp</a><br/>Synced 5 W&B file(s), 0 media file(s), 0 artifact file(s) and 0 other file(s)"
            ]
          },
          "metadata": {}
        },
        {
          "output_type": "display_data",
          "data": {
            "text/plain": [
              "<IPython.core.display.HTML object>"
            ],
            "text/html": [
              "Find logs at: <code>./wandb/run-20240626_103343-d0bkmyca/logs</code>"
            ]
          },
          "metadata": {}
        },
        {
          "output_type": "display_data",
          "data": {
            "text/plain": [
              "<IPython.core.display.HTML object>"
            ],
            "text/html": [
              "The new W&B backend becomes opt-out in version 0.18.0; try it out with `wandb.require(\"core\")`! See https://wandb.me/wandb-core for more information."
            ]
          },
          "metadata": {}
        }
      ],
      "source": [
        "model = AttentionCNN(vocab_size=len(dictionary), hid_dim=100).to(device)\n",
        "optimizer = torch.optim.Adam(model.parameters(), lr=5e-4, weight_decay=1e-4)\n",
        "wandb.init(project='Yelp', name='AttentionСNN_lr=5e-4_dropout=0.1')\n",
        "\n",
        "for epoch in range(20):\n",
        "    train(model, train_loader, optimizer)\n",
        "    test_acc, test_loss = evaluate(model, test_loader)\n",
        "    print(f\"Epoch {epoch+1}, Test Accuracy: {test_acc:.4f}, Test Loss: {test_loss:.4f}\")\n",
        "\n",
        "wandb.finish()"
      ]
    },
    {
      "cell_type": "markdown",
      "source": [
        "При dropout=0.1 и lr=5e-4 получили accuracy = 0.972 на 20 эпохе, что немного лучше предыдущих попыток."
      ],
      "metadata": {
        "id": "T-XEkVGMMJfO"
      }
    },
    {
      "cell_type": "code",
      "source": [
        "model = AttentionCNN(vocab_size=len(dictionary), hid_dim=100).to(device)\n",
        "optimizer = torch.optim.Adam(model.parameters(), lr=1e-3, weight_decay=1e-4)\n",
        "wandb.init(project='Yelp', name='AttentionСNN_lr=1e-3_dropout=0.1')\n",
        "\n",
        "for epoch in range(20):\n",
        "    train(model, train_loader, optimizer)\n",
        "    test_acc, test_loss = evaluate(model, test_loader)\n",
        "    print(f\"Epoch {epoch+1}, Test Accuracy: {test_acc:.4f}, Test Loss: {test_loss:.4f}\")\n",
        "\n",
        "wandb.finish()"
      ],
      "metadata": {
        "colab": {
          "base_uri": "https://localhost:8080/",
          "height": 905,
          "referenced_widgets": [
            "eb6033c3859a428eb0118516d1b06b46",
            "d8e1f58cbce5487b9a7072fb8cfc2394",
            "b08ecb3559554ccd9835803a9ad7a72e",
            "23a760fd96b74b10908b7d2f5fb25787",
            "659f6dda217242cc944584cfa808e7a8",
            "062a9bceb45e40b5adf07625e9f4ca81",
            "de7265e84cb54af284f02fc2c24ea75b",
            "10d42227edf6462299b1f79128d01a37"
          ]
        },
        "id": "-LV8QRFyL9O5",
        "outputId": "405b4d52-283d-427e-89bd-bca7857b71b8"
      },
      "execution_count": 52,
      "outputs": [
        {
          "output_type": "display_data",
          "data": {
            "text/plain": [
              "<IPython.core.display.HTML object>"
            ],
            "text/html": [
              "Tracking run with wandb version 0.17.3"
            ]
          },
          "metadata": {}
        },
        {
          "output_type": "display_data",
          "data": {
            "text/plain": [
              "<IPython.core.display.HTML object>"
            ],
            "text/html": [
              "Run data is saved locally in <code>/content/wandb/run-20240626_115401-f3rgut5t</code>"
            ]
          },
          "metadata": {}
        },
        {
          "output_type": "display_data",
          "data": {
            "text/plain": [
              "<IPython.core.display.HTML object>"
            ],
            "text/html": [
              "Syncing run <strong><a href='https://wandb.ai/e-v-zgurskaya/Yelp/runs/f3rgut5t' target=\"_blank\">AttentionСNN_lr=1e-3_dropout=0.1</a></strong> to <a href='https://wandb.ai/e-v-zgurskaya/Yelp' target=\"_blank\">Weights & Biases</a> (<a href='https://wandb.me/run' target=\"_blank\">docs</a>)<br/>"
            ]
          },
          "metadata": {}
        },
        {
          "output_type": "display_data",
          "data": {
            "text/plain": [
              "<IPython.core.display.HTML object>"
            ],
            "text/html": [
              " View project at <a href='https://wandb.ai/e-v-zgurskaya/Yelp' target=\"_blank\">https://wandb.ai/e-v-zgurskaya/Yelp</a>"
            ]
          },
          "metadata": {}
        },
        {
          "output_type": "display_data",
          "data": {
            "text/plain": [
              "<IPython.core.display.HTML object>"
            ],
            "text/html": [
              " View run at <a href='https://wandb.ai/e-v-zgurskaya/Yelp/runs/f3rgut5t' target=\"_blank\">https://wandb.ai/e-v-zgurskaya/Yelp/runs/f3rgut5t</a>"
            ]
          },
          "metadata": {}
        },
        {
          "output_type": "stream",
          "name": "stdout",
          "text": [
            "Epoch 1, Test Accuracy: 0.9610, Test Loss: 0.1041\n",
            "Epoch 2, Test Accuracy: 0.9610, Test Loss: 0.1047\n",
            "Epoch 3, Test Accuracy: 0.9670, Test Loss: 0.0929\n",
            "Epoch 4, Test Accuracy: 0.9620, Test Loss: 0.0879\n",
            "Epoch 5, Test Accuracy: 0.9680, Test Loss: 0.0892\n",
            "Epoch 6, Test Accuracy: 0.9660, Test Loss: 0.0945\n",
            "Epoch 7, Test Accuracy: 0.9630, Test Loss: 0.0927\n",
            "Epoch 8, Test Accuracy: 0.9670, Test Loss: 0.0895\n",
            "Epoch 9, Test Accuracy: 0.9670, Test Loss: 0.0935\n",
            "Epoch 10, Test Accuracy: 0.9690, Test Loss: 0.0891\n",
            "Epoch 11, Test Accuracy: 0.9650, Test Loss: 0.0938\n",
            "Epoch 12, Test Accuracy: 0.9640, Test Loss: 0.0861\n",
            "Epoch 13, Test Accuracy: 0.9640, Test Loss: 0.0925\n",
            "Epoch 14, Test Accuracy: 0.9730, Test Loss: 0.0836\n",
            "Epoch 15, Test Accuracy: 0.9690, Test Loss: 0.0885\n",
            "Epoch 16, Test Accuracy: 0.9720, Test Loss: 0.0866\n",
            "Epoch 17, Test Accuracy: 0.9760, Test Loss: 0.0789\n",
            "Epoch 18, Test Accuracy: 0.9650, Test Loss: 0.0855\n",
            "Epoch 19, Test Accuracy: 0.9720, Test Loss: 0.0868\n",
            "Epoch 20, Test Accuracy: 0.9740, Test Loss: 0.0839\n"
          ]
        },
        {
          "output_type": "display_data",
          "data": {
            "text/plain": [
              "VBox(children=(Label(value='0.001 MB of 0.012 MB uploaded\\r'), FloatProgress(value=0.10028513238289205, max=1.…"
            ],
            "application/vnd.jupyter.widget-view+json": {
              "version_major": 2,
              "version_minor": 0,
              "model_id": "eb6033c3859a428eb0118516d1b06b46"
            }
          },
          "metadata": {}
        },
        {
          "output_type": "display_data",
          "data": {
            "text/plain": [
              "<IPython.core.display.HTML object>"
            ],
            "text/html": [
              "<style>\n",
              "    table.wandb td:nth-child(1) { padding: 0 10px; text-align: left ; width: auto;} td:nth-child(2) {text-align: left ; width: 100%}\n",
              "    .wandb-row { display: flex; flex-direction: row; flex-wrap: wrap; justify-content: flex-start; width: 100% }\n",
              "    .wandb-col { display: flex; flex-direction: column; flex-basis: 100%; flex: 1; padding: 10px; }\n",
              "    </style>\n",
              "<div class=\"wandb-row\"><div class=\"wandb-col\"><h3>Run history:</h3><br/><table class=\"wandb\"><tr><td>test_accuracy</td><td>▁▁▄▁▄▃▂▄▄▅▃▂▂▇▅▆█▃▆▇</td></tr><tr><td>test_loss</td><td>██▅▃▄▅▅▄▅▄▅▃▅▂▄▃▁▃▃▂</td></tr><tr><td>train_accuracy</td><td>▁▃▅▇▆▇▆▆▇▇▅▆▆▇█▂▅▇▇▆▆▆▆▇▆█▆▆▇▅▇▆▆▇▇█▇▅▆█</td></tr><tr><td>train_loss</td><td>█▆▅▃▃▂▄▃▃▂▅▃▃▂▁▇▄▃▂▃▃▃▂▂▃▁▃▂▂▅▂▂▃▃▂▁▂▄▃▁</td></tr></table><br/></div><div class=\"wandb-col\"><h3>Run summary:</h3><br/><table class=\"wandb\"><tr><td>test_accuracy</td><td>0.974</td></tr><tr><td>test_loss</td><td>0.08393</td></tr><tr><td>train_accuracy</td><td>0.99187</td></tr><tr><td>train_loss</td><td>0.01756</td></tr></table><br/></div></div>"
            ]
          },
          "metadata": {}
        },
        {
          "output_type": "display_data",
          "data": {
            "text/plain": [
              "<IPython.core.display.HTML object>"
            ],
            "text/html": [
              " View run <strong style=\"color:#cdcd00\">AttentionСNN_lr=1e-3_dropout=0.1</strong> at: <a href='https://wandb.ai/e-v-zgurskaya/Yelp/runs/f3rgut5t' target=\"_blank\">https://wandb.ai/e-v-zgurskaya/Yelp/runs/f3rgut5t</a><br/> View project at: <a href='https://wandb.ai/e-v-zgurskaya/Yelp' target=\"_blank\">https://wandb.ai/e-v-zgurskaya/Yelp</a><br/>Synced 5 W&B file(s), 0 media file(s), 0 artifact file(s) and 0 other file(s)"
            ]
          },
          "metadata": {}
        },
        {
          "output_type": "display_data",
          "data": {
            "text/plain": [
              "<IPython.core.display.HTML object>"
            ],
            "text/html": [
              "Find logs at: <code>./wandb/run-20240626_115401-f3rgut5t/logs</code>"
            ]
          },
          "metadata": {}
        },
        {
          "output_type": "display_data",
          "data": {
            "text/plain": [
              "<IPython.core.display.HTML object>"
            ],
            "text/html": [
              "The new W&B backend becomes opt-out in version 0.18.0; try it out with `wandb.require(\"core\")`! See https://wandb.me/wandb-core for more information."
            ]
          },
          "metadata": {}
        }
      ]
    },
    {
      "cell_type": "markdown",
      "source": [
        "При добавлении механизма внимания, dropout=0.1 и lr=1e-4 получили accuracy = 0.974 на 20 эпохе, что лучше всех предыдущих попыток."
      ],
      "metadata": {
        "id": "ktLsV9FTDwKN"
      }
    },
    {
      "cell_type": "markdown",
      "metadata": {
        "id": "Ew0xNoQwnroT"
      },
      "source": [
        "## Вывод\n",
        "\n",
        "В ходе проекта была успешно решена задача классификации тональности отзывов о ресторанах. Предобработка данных и использование различных моделей, таких как Наивный Байес, логистическая регрессия с TF-IDF, CNN и AttentionCNN, позволили достичь высокой точности классификации. Лучшая модель, AttentionCNN, достигла точности 0.974, что является отличным результатом для данной задачи. Этот проект демонстрирует эффективность применения механизмов внимания и сверточных нейронных сетей для анализа текстовых данных."
      ]
    },
    {
      "cell_type": "code",
      "execution_count": null,
      "metadata": {
        "id": "2q8TO0pWz1wI"
      },
      "outputs": [],
      "source": []
    }
  ],
  "metadata": {
    "accelerator": "GPU",
    "colab": {
      "gpuType": "T4",
      "provenance": []
    },
    "kernelspec": {
      "display_name": "Basic Python Environment",
      "language": "python",
      "name": "python3"
    },
    "language_info": {
      "codemirror_mode": {
        "name": "ipython",
        "version": 3
      },
      "file_extension": ".py",
      "mimetype": "text/x-python",
      "name": "python",
      "nbconvert_exporter": "python",
      "pygments_lexer": "ipython3",
      "version": "3.10.11"
    },
    "widgets": {
      "application/vnd.jupyter.widget-state+json": {
        "b7ea06b9f6f74a5d959c66db0a08e12c": {
          "model_module": "@jupyter-widgets/controls",
          "model_name": "HBoxModel",
          "model_module_version": "1.5.0",
          "state": {
            "_dom_classes": [],
            "_model_module": "@jupyter-widgets/controls",
            "_model_module_version": "1.5.0",
            "_model_name": "HBoxModel",
            "_view_count": null,
            "_view_module": "@jupyter-widgets/controls",
            "_view_module_version": "1.5.0",
            "_view_name": "HBoxView",
            "box_style": "",
            "children": [
              "IPY_MODEL_df693b2033834250a9ecf282c35aeadc",
              "IPY_MODEL_53c2259d80dd4e05acf136ccc65840ce",
              "IPY_MODEL_0cbfae1fef95415da333d0fac0450291"
            ],
            "layout": "IPY_MODEL_5ebb63e0dde94758a210a9831f21d58b"
          }
        },
        "df693b2033834250a9ecf282c35aeadc": {
          "model_module": "@jupyter-widgets/controls",
          "model_name": "HTMLModel",
          "model_module_version": "1.5.0",
          "state": {
            "_dom_classes": [],
            "_model_module": "@jupyter-widgets/controls",
            "_model_module_version": "1.5.0",
            "_model_name": "HTMLModel",
            "_view_count": null,
            "_view_module": "@jupyter-widgets/controls",
            "_view_module_version": "1.5.0",
            "_view_name": "HTMLView",
            "description": "",
            "description_tooltip": null,
            "layout": "IPY_MODEL_11692f980082412fa16e26039e44576e",
            "placeholder": "​",
            "style": "IPY_MODEL_4fea2d5403254d979edb26ffdcab0d8c",
            "value": "100%"
          }
        },
        "53c2259d80dd4e05acf136ccc65840ce": {
          "model_module": "@jupyter-widgets/controls",
          "model_name": "FloatProgressModel",
          "model_module_version": "1.5.0",
          "state": {
            "_dom_classes": [],
            "_model_module": "@jupyter-widgets/controls",
            "_model_module_version": "1.5.0",
            "_model_name": "FloatProgressModel",
            "_view_count": null,
            "_view_module": "@jupyter-widgets/controls",
            "_view_module_version": "1.5.0",
            "_view_name": "ProgressView",
            "bar_style": "success",
            "description": "",
            "description_tooltip": null,
            "layout": "IPY_MODEL_d77202ced00c495baa4f463bb9008a49",
            "max": 443259,
            "min": 0,
            "orientation": "horizontal",
            "style": "IPY_MODEL_98d92618004d440a82e2d54911c3c9e8",
            "value": 443259
          }
        },
        "0cbfae1fef95415da333d0fac0450291": {
          "model_module": "@jupyter-widgets/controls",
          "model_name": "HTMLModel",
          "model_module_version": "1.5.0",
          "state": {
            "_dom_classes": [],
            "_model_module": "@jupyter-widgets/controls",
            "_model_module_version": "1.5.0",
            "_model_name": "HTMLModel",
            "_view_count": null,
            "_view_module": "@jupyter-widgets/controls",
            "_view_module_version": "1.5.0",
            "_view_name": "HTMLView",
            "description": "",
            "description_tooltip": null,
            "layout": "IPY_MODEL_180d2791297e4cf1a9409af7a48d07c6",
            "placeholder": "​",
            "style": "IPY_MODEL_418b691796e346768727f0c4dd0f2877",
            "value": " 443259/443259 [00:30&lt;00:00, 15001.68it/s]"
          }
        },
        "5ebb63e0dde94758a210a9831f21d58b": {
          "model_module": "@jupyter-widgets/base",
          "model_name": "LayoutModel",
          "model_module_version": "1.2.0",
          "state": {
            "_model_module": "@jupyter-widgets/base",
            "_model_module_version": "1.2.0",
            "_model_name": "LayoutModel",
            "_view_count": null,
            "_view_module": "@jupyter-widgets/base",
            "_view_module_version": "1.2.0",
            "_view_name": "LayoutView",
            "align_content": null,
            "align_items": null,
            "align_self": null,
            "border": null,
            "bottom": null,
            "display": null,
            "flex": null,
            "flex_flow": null,
            "grid_area": null,
            "grid_auto_columns": null,
            "grid_auto_flow": null,
            "grid_auto_rows": null,
            "grid_column": null,
            "grid_gap": null,
            "grid_row": null,
            "grid_template_areas": null,
            "grid_template_columns": null,
            "grid_template_rows": null,
            "height": null,
            "justify_content": null,
            "justify_items": null,
            "left": null,
            "margin": null,
            "max_height": null,
            "max_width": null,
            "min_height": null,
            "min_width": null,
            "object_fit": null,
            "object_position": null,
            "order": null,
            "overflow": null,
            "overflow_x": null,
            "overflow_y": null,
            "padding": null,
            "right": null,
            "top": null,
            "visibility": null,
            "width": null
          }
        },
        "11692f980082412fa16e26039e44576e": {
          "model_module": "@jupyter-widgets/base",
          "model_name": "LayoutModel",
          "model_module_version": "1.2.0",
          "state": {
            "_model_module": "@jupyter-widgets/base",
            "_model_module_version": "1.2.0",
            "_model_name": "LayoutModel",
            "_view_count": null,
            "_view_module": "@jupyter-widgets/base",
            "_view_module_version": "1.2.0",
            "_view_name": "LayoutView",
            "align_content": null,
            "align_items": null,
            "align_self": null,
            "border": null,
            "bottom": null,
            "display": null,
            "flex": null,
            "flex_flow": null,
            "grid_area": null,
            "grid_auto_columns": null,
            "grid_auto_flow": null,
            "grid_auto_rows": null,
            "grid_column": null,
            "grid_gap": null,
            "grid_row": null,
            "grid_template_areas": null,
            "grid_template_columns": null,
            "grid_template_rows": null,
            "height": null,
            "justify_content": null,
            "justify_items": null,
            "left": null,
            "margin": null,
            "max_height": null,
            "max_width": null,
            "min_height": null,
            "min_width": null,
            "object_fit": null,
            "object_position": null,
            "order": null,
            "overflow": null,
            "overflow_x": null,
            "overflow_y": null,
            "padding": null,
            "right": null,
            "top": null,
            "visibility": null,
            "width": null
          }
        },
        "4fea2d5403254d979edb26ffdcab0d8c": {
          "model_module": "@jupyter-widgets/controls",
          "model_name": "DescriptionStyleModel",
          "model_module_version": "1.5.0",
          "state": {
            "_model_module": "@jupyter-widgets/controls",
            "_model_module_version": "1.5.0",
            "_model_name": "DescriptionStyleModel",
            "_view_count": null,
            "_view_module": "@jupyter-widgets/base",
            "_view_module_version": "1.2.0",
            "_view_name": "StyleView",
            "description_width": ""
          }
        },
        "d77202ced00c495baa4f463bb9008a49": {
          "model_module": "@jupyter-widgets/base",
          "model_name": "LayoutModel",
          "model_module_version": "1.2.0",
          "state": {
            "_model_module": "@jupyter-widgets/base",
            "_model_module_version": "1.2.0",
            "_model_name": "LayoutModel",
            "_view_count": null,
            "_view_module": "@jupyter-widgets/base",
            "_view_module_version": "1.2.0",
            "_view_name": "LayoutView",
            "align_content": null,
            "align_items": null,
            "align_self": null,
            "border": null,
            "bottom": null,
            "display": null,
            "flex": null,
            "flex_flow": null,
            "grid_area": null,
            "grid_auto_columns": null,
            "grid_auto_flow": null,
            "grid_auto_rows": null,
            "grid_column": null,
            "grid_gap": null,
            "grid_row": null,
            "grid_template_areas": null,
            "grid_template_columns": null,
            "grid_template_rows": null,
            "height": null,
            "justify_content": null,
            "justify_items": null,
            "left": null,
            "margin": null,
            "max_height": null,
            "max_width": null,
            "min_height": null,
            "min_width": null,
            "object_fit": null,
            "object_position": null,
            "order": null,
            "overflow": null,
            "overflow_x": null,
            "overflow_y": null,
            "padding": null,
            "right": null,
            "top": null,
            "visibility": null,
            "width": null
          }
        },
        "98d92618004d440a82e2d54911c3c9e8": {
          "model_module": "@jupyter-widgets/controls",
          "model_name": "ProgressStyleModel",
          "model_module_version": "1.5.0",
          "state": {
            "_model_module": "@jupyter-widgets/controls",
            "_model_module_version": "1.5.0",
            "_model_name": "ProgressStyleModel",
            "_view_count": null,
            "_view_module": "@jupyter-widgets/base",
            "_view_module_version": "1.2.0",
            "_view_name": "StyleView",
            "bar_color": null,
            "description_width": ""
          }
        },
        "180d2791297e4cf1a9409af7a48d07c6": {
          "model_module": "@jupyter-widgets/base",
          "model_name": "LayoutModel",
          "model_module_version": "1.2.0",
          "state": {
            "_model_module": "@jupyter-widgets/base",
            "_model_module_version": "1.2.0",
            "_model_name": "LayoutModel",
            "_view_count": null,
            "_view_module": "@jupyter-widgets/base",
            "_view_module_version": "1.2.0",
            "_view_name": "LayoutView",
            "align_content": null,
            "align_items": null,
            "align_self": null,
            "border": null,
            "bottom": null,
            "display": null,
            "flex": null,
            "flex_flow": null,
            "grid_area": null,
            "grid_auto_columns": null,
            "grid_auto_flow": null,
            "grid_auto_rows": null,
            "grid_column": null,
            "grid_gap": null,
            "grid_row": null,
            "grid_template_areas": null,
            "grid_template_columns": null,
            "grid_template_rows": null,
            "height": null,
            "justify_content": null,
            "justify_items": null,
            "left": null,
            "margin": null,
            "max_height": null,
            "max_width": null,
            "min_height": null,
            "min_width": null,
            "object_fit": null,
            "object_position": null,
            "order": null,
            "overflow": null,
            "overflow_x": null,
            "overflow_y": null,
            "padding": null,
            "right": null,
            "top": null,
            "visibility": null,
            "width": null
          }
        },
        "418b691796e346768727f0c4dd0f2877": {
          "model_module": "@jupyter-widgets/controls",
          "model_name": "DescriptionStyleModel",
          "model_module_version": "1.5.0",
          "state": {
            "_model_module": "@jupyter-widgets/controls",
            "_model_module_version": "1.5.0",
            "_model_name": "DescriptionStyleModel",
            "_view_count": null,
            "_view_module": "@jupyter-widgets/base",
            "_view_module_version": "1.2.0",
            "_view_name": "StyleView",
            "description_width": ""
          }
        },
        "709c9603980c4dc1b16939cf8b7e2f51": {
          "model_module": "@jupyter-widgets/controls",
          "model_name": "HBoxModel",
          "model_module_version": "1.5.0",
          "state": {
            "_dom_classes": [],
            "_model_module": "@jupyter-widgets/controls",
            "_model_module_version": "1.5.0",
            "_model_name": "HBoxModel",
            "_view_count": null,
            "_view_module": "@jupyter-widgets/controls",
            "_view_module_version": "1.5.0",
            "_view_name": "HBoxView",
            "box_style": "",
            "children": [
              "IPY_MODEL_d6e09659193f454dae0246e3c05c7eb7",
              "IPY_MODEL_ecfc7aebb1254610a78cf5491461a247",
              "IPY_MODEL_caf4ebd059164a70bd9ec0e6548c8003"
            ],
            "layout": "IPY_MODEL_e5e8887987f84935a8e9b6117566b173"
          }
        },
        "d6e09659193f454dae0246e3c05c7eb7": {
          "model_module": "@jupyter-widgets/controls",
          "model_name": "HTMLModel",
          "model_module_version": "1.5.0",
          "state": {
            "_dom_classes": [],
            "_model_module": "@jupyter-widgets/controls",
            "_model_module_version": "1.5.0",
            "_model_name": "HTMLModel",
            "_view_count": null,
            "_view_module": "@jupyter-widgets/controls",
            "_view_module_version": "1.5.0",
            "_view_name": "HTMLView",
            "description": "",
            "description_tooltip": null,
            "layout": "IPY_MODEL_b8bc03fa6aba4dec811408850ef3abf9",
            "placeholder": "​",
            "style": "IPY_MODEL_e59ee993c5d1409ebc664fc87dc75087",
            "value": "100%"
          }
        },
        "ecfc7aebb1254610a78cf5491461a247": {
          "model_module": "@jupyter-widgets/controls",
          "model_name": "FloatProgressModel",
          "model_module_version": "1.5.0",
          "state": {
            "_dom_classes": [],
            "_model_module": "@jupyter-widgets/controls",
            "_model_module_version": "1.5.0",
            "_model_name": "FloatProgressModel",
            "_view_count": null,
            "_view_module": "@jupyter-widgets/controls",
            "_view_module_version": "1.5.0",
            "_view_name": "ProgressView",
            "bar_style": "success",
            "description": "",
            "description_tooltip": null,
            "layout": "IPY_MODEL_4190889016c948049a6d5816320123c6",
            "max": 1000,
            "min": 0,
            "orientation": "horizontal",
            "style": "IPY_MODEL_32dfc3d2166246ffa5b6b69fd1106673",
            "value": 1000
          }
        },
        "caf4ebd059164a70bd9ec0e6548c8003": {
          "model_module": "@jupyter-widgets/controls",
          "model_name": "HTMLModel",
          "model_module_version": "1.5.0",
          "state": {
            "_dom_classes": [],
            "_model_module": "@jupyter-widgets/controls",
            "_model_module_version": "1.5.0",
            "_model_name": "HTMLModel",
            "_view_count": null,
            "_view_module": "@jupyter-widgets/controls",
            "_view_module_version": "1.5.0",
            "_view_name": "HTMLView",
            "description": "",
            "description_tooltip": null,
            "layout": "IPY_MODEL_362a428f3e7b412299f1d9c27d03ea29",
            "placeholder": "​",
            "style": "IPY_MODEL_c89aa5b7c2c6402dbf55496667589e5e",
            "value": " 1000/1000 [00:00&lt;00:00, 14358.60it/s]"
          }
        },
        "e5e8887987f84935a8e9b6117566b173": {
          "model_module": "@jupyter-widgets/base",
          "model_name": "LayoutModel",
          "model_module_version": "1.2.0",
          "state": {
            "_model_module": "@jupyter-widgets/base",
            "_model_module_version": "1.2.0",
            "_model_name": "LayoutModel",
            "_view_count": null,
            "_view_module": "@jupyter-widgets/base",
            "_view_module_version": "1.2.0",
            "_view_name": "LayoutView",
            "align_content": null,
            "align_items": null,
            "align_self": null,
            "border": null,
            "bottom": null,
            "display": null,
            "flex": null,
            "flex_flow": null,
            "grid_area": null,
            "grid_auto_columns": null,
            "grid_auto_flow": null,
            "grid_auto_rows": null,
            "grid_column": null,
            "grid_gap": null,
            "grid_row": null,
            "grid_template_areas": null,
            "grid_template_columns": null,
            "grid_template_rows": null,
            "height": null,
            "justify_content": null,
            "justify_items": null,
            "left": null,
            "margin": null,
            "max_height": null,
            "max_width": null,
            "min_height": null,
            "min_width": null,
            "object_fit": null,
            "object_position": null,
            "order": null,
            "overflow": null,
            "overflow_x": null,
            "overflow_y": null,
            "padding": null,
            "right": null,
            "top": null,
            "visibility": null,
            "width": null
          }
        },
        "b8bc03fa6aba4dec811408850ef3abf9": {
          "model_module": "@jupyter-widgets/base",
          "model_name": "LayoutModel",
          "model_module_version": "1.2.0",
          "state": {
            "_model_module": "@jupyter-widgets/base",
            "_model_module_version": "1.2.0",
            "_model_name": "LayoutModel",
            "_view_count": null,
            "_view_module": "@jupyter-widgets/base",
            "_view_module_version": "1.2.0",
            "_view_name": "LayoutView",
            "align_content": null,
            "align_items": null,
            "align_self": null,
            "border": null,
            "bottom": null,
            "display": null,
            "flex": null,
            "flex_flow": null,
            "grid_area": null,
            "grid_auto_columns": null,
            "grid_auto_flow": null,
            "grid_auto_rows": null,
            "grid_column": null,
            "grid_gap": null,
            "grid_row": null,
            "grid_template_areas": null,
            "grid_template_columns": null,
            "grid_template_rows": null,
            "height": null,
            "justify_content": null,
            "justify_items": null,
            "left": null,
            "margin": null,
            "max_height": null,
            "max_width": null,
            "min_height": null,
            "min_width": null,
            "object_fit": null,
            "object_position": null,
            "order": null,
            "overflow": null,
            "overflow_x": null,
            "overflow_y": null,
            "padding": null,
            "right": null,
            "top": null,
            "visibility": null,
            "width": null
          }
        },
        "e59ee993c5d1409ebc664fc87dc75087": {
          "model_module": "@jupyter-widgets/controls",
          "model_name": "DescriptionStyleModel",
          "model_module_version": "1.5.0",
          "state": {
            "_model_module": "@jupyter-widgets/controls",
            "_model_module_version": "1.5.0",
            "_model_name": "DescriptionStyleModel",
            "_view_count": null,
            "_view_module": "@jupyter-widgets/base",
            "_view_module_version": "1.2.0",
            "_view_name": "StyleView",
            "description_width": ""
          }
        },
        "4190889016c948049a6d5816320123c6": {
          "model_module": "@jupyter-widgets/base",
          "model_name": "LayoutModel",
          "model_module_version": "1.2.0",
          "state": {
            "_model_module": "@jupyter-widgets/base",
            "_model_module_version": "1.2.0",
            "_model_name": "LayoutModel",
            "_view_count": null,
            "_view_module": "@jupyter-widgets/base",
            "_view_module_version": "1.2.0",
            "_view_name": "LayoutView",
            "align_content": null,
            "align_items": null,
            "align_self": null,
            "border": null,
            "bottom": null,
            "display": null,
            "flex": null,
            "flex_flow": null,
            "grid_area": null,
            "grid_auto_columns": null,
            "grid_auto_flow": null,
            "grid_auto_rows": null,
            "grid_column": null,
            "grid_gap": null,
            "grid_row": null,
            "grid_template_areas": null,
            "grid_template_columns": null,
            "grid_template_rows": null,
            "height": null,
            "justify_content": null,
            "justify_items": null,
            "left": null,
            "margin": null,
            "max_height": null,
            "max_width": null,
            "min_height": null,
            "min_width": null,
            "object_fit": null,
            "object_position": null,
            "order": null,
            "overflow": null,
            "overflow_x": null,
            "overflow_y": null,
            "padding": null,
            "right": null,
            "top": null,
            "visibility": null,
            "width": null
          }
        },
        "32dfc3d2166246ffa5b6b69fd1106673": {
          "model_module": "@jupyter-widgets/controls",
          "model_name": "ProgressStyleModel",
          "model_module_version": "1.5.0",
          "state": {
            "_model_module": "@jupyter-widgets/controls",
            "_model_module_version": "1.5.0",
            "_model_name": "ProgressStyleModel",
            "_view_count": null,
            "_view_module": "@jupyter-widgets/base",
            "_view_module_version": "1.2.0",
            "_view_name": "StyleView",
            "bar_color": null,
            "description_width": ""
          }
        },
        "362a428f3e7b412299f1d9c27d03ea29": {
          "model_module": "@jupyter-widgets/base",
          "model_name": "LayoutModel",
          "model_module_version": "1.2.0",
          "state": {
            "_model_module": "@jupyter-widgets/base",
            "_model_module_version": "1.2.0",
            "_model_name": "LayoutModel",
            "_view_count": null,
            "_view_module": "@jupyter-widgets/base",
            "_view_module_version": "1.2.0",
            "_view_name": "LayoutView",
            "align_content": null,
            "align_items": null,
            "align_self": null,
            "border": null,
            "bottom": null,
            "display": null,
            "flex": null,
            "flex_flow": null,
            "grid_area": null,
            "grid_auto_columns": null,
            "grid_auto_flow": null,
            "grid_auto_rows": null,
            "grid_column": null,
            "grid_gap": null,
            "grid_row": null,
            "grid_template_areas": null,
            "grid_template_columns": null,
            "grid_template_rows": null,
            "height": null,
            "justify_content": null,
            "justify_items": null,
            "left": null,
            "margin": null,
            "max_height": null,
            "max_width": null,
            "min_height": null,
            "min_width": null,
            "object_fit": null,
            "object_position": null,
            "order": null,
            "overflow": null,
            "overflow_x": null,
            "overflow_y": null,
            "padding": null,
            "right": null,
            "top": null,
            "visibility": null,
            "width": null
          }
        },
        "c89aa5b7c2c6402dbf55496667589e5e": {
          "model_module": "@jupyter-widgets/controls",
          "model_name": "DescriptionStyleModel",
          "model_module_version": "1.5.0",
          "state": {
            "_model_module": "@jupyter-widgets/controls",
            "_model_module_version": "1.5.0",
            "_model_name": "DescriptionStyleModel",
            "_view_count": null,
            "_view_module": "@jupyter-widgets/base",
            "_view_module_version": "1.2.0",
            "_view_name": "StyleView",
            "description_width": ""
          }
        },
        "70de792849514e3689fd0a1edd43cc24": {
          "model_module": "@jupyter-widgets/controls",
          "model_name": "VBoxModel",
          "model_module_version": "1.5.0",
          "state": {
            "_dom_classes": [],
            "_model_module": "@jupyter-widgets/controls",
            "_model_module_version": "1.5.0",
            "_model_name": "VBoxModel",
            "_view_count": null,
            "_view_module": "@jupyter-widgets/controls",
            "_view_module_version": "1.5.0",
            "_view_name": "VBoxView",
            "box_style": "",
            "children": [
              "IPY_MODEL_7b7e83ea129b487eb6abd09d118b4d96",
              "IPY_MODEL_aa76ef2fa5e8467a984c2612325d9309"
            ],
            "layout": "IPY_MODEL_e46f943b348f42c2b317a00774e66272"
          }
        },
        "7b7e83ea129b487eb6abd09d118b4d96": {
          "model_module": "@jupyter-widgets/controls",
          "model_name": "LabelModel",
          "model_module_version": "1.5.0",
          "state": {
            "_dom_classes": [],
            "_model_module": "@jupyter-widgets/controls",
            "_model_module_version": "1.5.0",
            "_model_name": "LabelModel",
            "_view_count": null,
            "_view_module": "@jupyter-widgets/controls",
            "_view_module_version": "1.5.0",
            "_view_name": "LabelView",
            "description": "",
            "description_tooltip": null,
            "layout": "IPY_MODEL_930af57b02684812989505f9029262cf",
            "placeholder": "​",
            "style": "IPY_MODEL_708263bc415d43eb95c25ff8e89e7359",
            "value": "0.012 MB of 0.012 MB uploaded\r"
          }
        },
        "aa76ef2fa5e8467a984c2612325d9309": {
          "model_module": "@jupyter-widgets/controls",
          "model_name": "FloatProgressModel",
          "model_module_version": "1.5.0",
          "state": {
            "_dom_classes": [],
            "_model_module": "@jupyter-widgets/controls",
            "_model_module_version": "1.5.0",
            "_model_name": "FloatProgressModel",
            "_view_count": null,
            "_view_module": "@jupyter-widgets/controls",
            "_view_module_version": "1.5.0",
            "_view_name": "ProgressView",
            "bar_style": "",
            "description": "",
            "description_tooltip": null,
            "layout": "IPY_MODEL_557aaebec79a4b289d2cba3cef7573fe",
            "max": 1,
            "min": 0,
            "orientation": "horizontal",
            "style": "IPY_MODEL_1948af7d7e2a4c26a0fa0dc5bb717636",
            "value": 1
          }
        },
        "e46f943b348f42c2b317a00774e66272": {
          "model_module": "@jupyter-widgets/base",
          "model_name": "LayoutModel",
          "model_module_version": "1.2.0",
          "state": {
            "_model_module": "@jupyter-widgets/base",
            "_model_module_version": "1.2.0",
            "_model_name": "LayoutModel",
            "_view_count": null,
            "_view_module": "@jupyter-widgets/base",
            "_view_module_version": "1.2.0",
            "_view_name": "LayoutView",
            "align_content": null,
            "align_items": null,
            "align_self": null,
            "border": null,
            "bottom": null,
            "display": null,
            "flex": null,
            "flex_flow": null,
            "grid_area": null,
            "grid_auto_columns": null,
            "grid_auto_flow": null,
            "grid_auto_rows": null,
            "grid_column": null,
            "grid_gap": null,
            "grid_row": null,
            "grid_template_areas": null,
            "grid_template_columns": null,
            "grid_template_rows": null,
            "height": null,
            "justify_content": null,
            "justify_items": null,
            "left": null,
            "margin": null,
            "max_height": null,
            "max_width": null,
            "min_height": null,
            "min_width": null,
            "object_fit": null,
            "object_position": null,
            "order": null,
            "overflow": null,
            "overflow_x": null,
            "overflow_y": null,
            "padding": null,
            "right": null,
            "top": null,
            "visibility": null,
            "width": null
          }
        },
        "930af57b02684812989505f9029262cf": {
          "model_module": "@jupyter-widgets/base",
          "model_name": "LayoutModel",
          "model_module_version": "1.2.0",
          "state": {
            "_model_module": "@jupyter-widgets/base",
            "_model_module_version": "1.2.0",
            "_model_name": "LayoutModel",
            "_view_count": null,
            "_view_module": "@jupyter-widgets/base",
            "_view_module_version": "1.2.0",
            "_view_name": "LayoutView",
            "align_content": null,
            "align_items": null,
            "align_self": null,
            "border": null,
            "bottom": null,
            "display": null,
            "flex": null,
            "flex_flow": null,
            "grid_area": null,
            "grid_auto_columns": null,
            "grid_auto_flow": null,
            "grid_auto_rows": null,
            "grid_column": null,
            "grid_gap": null,
            "grid_row": null,
            "grid_template_areas": null,
            "grid_template_columns": null,
            "grid_template_rows": null,
            "height": null,
            "justify_content": null,
            "justify_items": null,
            "left": null,
            "margin": null,
            "max_height": null,
            "max_width": null,
            "min_height": null,
            "min_width": null,
            "object_fit": null,
            "object_position": null,
            "order": null,
            "overflow": null,
            "overflow_x": null,
            "overflow_y": null,
            "padding": null,
            "right": null,
            "top": null,
            "visibility": null,
            "width": null
          }
        },
        "708263bc415d43eb95c25ff8e89e7359": {
          "model_module": "@jupyter-widgets/controls",
          "model_name": "DescriptionStyleModel",
          "model_module_version": "1.5.0",
          "state": {
            "_model_module": "@jupyter-widgets/controls",
            "_model_module_version": "1.5.0",
            "_model_name": "DescriptionStyleModel",
            "_view_count": null,
            "_view_module": "@jupyter-widgets/base",
            "_view_module_version": "1.2.0",
            "_view_name": "StyleView",
            "description_width": ""
          }
        },
        "557aaebec79a4b289d2cba3cef7573fe": {
          "model_module": "@jupyter-widgets/base",
          "model_name": "LayoutModel",
          "model_module_version": "1.2.0",
          "state": {
            "_model_module": "@jupyter-widgets/base",
            "_model_module_version": "1.2.0",
            "_model_name": "LayoutModel",
            "_view_count": null,
            "_view_module": "@jupyter-widgets/base",
            "_view_module_version": "1.2.0",
            "_view_name": "LayoutView",
            "align_content": null,
            "align_items": null,
            "align_self": null,
            "border": null,
            "bottom": null,
            "display": null,
            "flex": null,
            "flex_flow": null,
            "grid_area": null,
            "grid_auto_columns": null,
            "grid_auto_flow": null,
            "grid_auto_rows": null,
            "grid_column": null,
            "grid_gap": null,
            "grid_row": null,
            "grid_template_areas": null,
            "grid_template_columns": null,
            "grid_template_rows": null,
            "height": null,
            "justify_content": null,
            "justify_items": null,
            "left": null,
            "margin": null,
            "max_height": null,
            "max_width": null,
            "min_height": null,
            "min_width": null,
            "object_fit": null,
            "object_position": null,
            "order": null,
            "overflow": null,
            "overflow_x": null,
            "overflow_y": null,
            "padding": null,
            "right": null,
            "top": null,
            "visibility": null,
            "width": null
          }
        },
        "1948af7d7e2a4c26a0fa0dc5bb717636": {
          "model_module": "@jupyter-widgets/controls",
          "model_name": "ProgressStyleModel",
          "model_module_version": "1.5.0",
          "state": {
            "_model_module": "@jupyter-widgets/controls",
            "_model_module_version": "1.5.0",
            "_model_name": "ProgressStyleModel",
            "_view_count": null,
            "_view_module": "@jupyter-widgets/base",
            "_view_module_version": "1.2.0",
            "_view_name": "StyleView",
            "bar_color": null,
            "description_width": ""
          }
        },
        "e6976ee2f79c47d8968fcec77e813e45": {
          "model_module": "@jupyter-widgets/controls",
          "model_name": "VBoxModel",
          "model_module_version": "1.5.0",
          "state": {
            "_dom_classes": [],
            "_model_module": "@jupyter-widgets/controls",
            "_model_module_version": "1.5.0",
            "_model_name": "VBoxModel",
            "_view_count": null,
            "_view_module": "@jupyter-widgets/controls",
            "_view_module_version": "1.5.0",
            "_view_name": "VBoxView",
            "box_style": "",
            "children": [
              "IPY_MODEL_acab143c488647479f3fc1b33428b9f1",
              "IPY_MODEL_285794861aaf42a3848d3fbfe19ac172"
            ],
            "layout": "IPY_MODEL_e843025862004af8b81b8eea1883fb73"
          }
        },
        "acab143c488647479f3fc1b33428b9f1": {
          "model_module": "@jupyter-widgets/controls",
          "model_name": "LabelModel",
          "model_module_version": "1.5.0",
          "state": {
            "_dom_classes": [],
            "_model_module": "@jupyter-widgets/controls",
            "_model_module_version": "1.5.0",
            "_model_name": "LabelModel",
            "_view_count": null,
            "_view_module": "@jupyter-widgets/controls",
            "_view_module_version": "1.5.0",
            "_view_name": "LabelView",
            "description": "",
            "description_tooltip": null,
            "layout": "IPY_MODEL_c06427b4922e4385afd41cc90088bf62",
            "placeholder": "​",
            "style": "IPY_MODEL_c27b87edf970460a81035e011ff7c4ea",
            "value": "0.012 MB of 0.012 MB uploaded\r"
          }
        },
        "285794861aaf42a3848d3fbfe19ac172": {
          "model_module": "@jupyter-widgets/controls",
          "model_name": "FloatProgressModel",
          "model_module_version": "1.5.0",
          "state": {
            "_dom_classes": [],
            "_model_module": "@jupyter-widgets/controls",
            "_model_module_version": "1.5.0",
            "_model_name": "FloatProgressModel",
            "_view_count": null,
            "_view_module": "@jupyter-widgets/controls",
            "_view_module_version": "1.5.0",
            "_view_name": "ProgressView",
            "bar_style": "",
            "description": "",
            "description_tooltip": null,
            "layout": "IPY_MODEL_1ba433ce39b84bb8a84e96b4a803bfae",
            "max": 1,
            "min": 0,
            "orientation": "horizontal",
            "style": "IPY_MODEL_e1b2af4efd824352aa89c16c451c7376",
            "value": 1
          }
        },
        "e843025862004af8b81b8eea1883fb73": {
          "model_module": "@jupyter-widgets/base",
          "model_name": "LayoutModel",
          "model_module_version": "1.2.0",
          "state": {
            "_model_module": "@jupyter-widgets/base",
            "_model_module_version": "1.2.0",
            "_model_name": "LayoutModel",
            "_view_count": null,
            "_view_module": "@jupyter-widgets/base",
            "_view_module_version": "1.2.0",
            "_view_name": "LayoutView",
            "align_content": null,
            "align_items": null,
            "align_self": null,
            "border": null,
            "bottom": null,
            "display": null,
            "flex": null,
            "flex_flow": null,
            "grid_area": null,
            "grid_auto_columns": null,
            "grid_auto_flow": null,
            "grid_auto_rows": null,
            "grid_column": null,
            "grid_gap": null,
            "grid_row": null,
            "grid_template_areas": null,
            "grid_template_columns": null,
            "grid_template_rows": null,
            "height": null,
            "justify_content": null,
            "justify_items": null,
            "left": null,
            "margin": null,
            "max_height": null,
            "max_width": null,
            "min_height": null,
            "min_width": null,
            "object_fit": null,
            "object_position": null,
            "order": null,
            "overflow": null,
            "overflow_x": null,
            "overflow_y": null,
            "padding": null,
            "right": null,
            "top": null,
            "visibility": null,
            "width": null
          }
        },
        "c06427b4922e4385afd41cc90088bf62": {
          "model_module": "@jupyter-widgets/base",
          "model_name": "LayoutModel",
          "model_module_version": "1.2.0",
          "state": {
            "_model_module": "@jupyter-widgets/base",
            "_model_module_version": "1.2.0",
            "_model_name": "LayoutModel",
            "_view_count": null,
            "_view_module": "@jupyter-widgets/base",
            "_view_module_version": "1.2.0",
            "_view_name": "LayoutView",
            "align_content": null,
            "align_items": null,
            "align_self": null,
            "border": null,
            "bottom": null,
            "display": null,
            "flex": null,
            "flex_flow": null,
            "grid_area": null,
            "grid_auto_columns": null,
            "grid_auto_flow": null,
            "grid_auto_rows": null,
            "grid_column": null,
            "grid_gap": null,
            "grid_row": null,
            "grid_template_areas": null,
            "grid_template_columns": null,
            "grid_template_rows": null,
            "height": null,
            "justify_content": null,
            "justify_items": null,
            "left": null,
            "margin": null,
            "max_height": null,
            "max_width": null,
            "min_height": null,
            "min_width": null,
            "object_fit": null,
            "object_position": null,
            "order": null,
            "overflow": null,
            "overflow_x": null,
            "overflow_y": null,
            "padding": null,
            "right": null,
            "top": null,
            "visibility": null,
            "width": null
          }
        },
        "c27b87edf970460a81035e011ff7c4ea": {
          "model_module": "@jupyter-widgets/controls",
          "model_name": "DescriptionStyleModel",
          "model_module_version": "1.5.0",
          "state": {
            "_model_module": "@jupyter-widgets/controls",
            "_model_module_version": "1.5.0",
            "_model_name": "DescriptionStyleModel",
            "_view_count": null,
            "_view_module": "@jupyter-widgets/base",
            "_view_module_version": "1.2.0",
            "_view_name": "StyleView",
            "description_width": ""
          }
        },
        "1ba433ce39b84bb8a84e96b4a803bfae": {
          "model_module": "@jupyter-widgets/base",
          "model_name": "LayoutModel",
          "model_module_version": "1.2.0",
          "state": {
            "_model_module": "@jupyter-widgets/base",
            "_model_module_version": "1.2.0",
            "_model_name": "LayoutModel",
            "_view_count": null,
            "_view_module": "@jupyter-widgets/base",
            "_view_module_version": "1.2.0",
            "_view_name": "LayoutView",
            "align_content": null,
            "align_items": null,
            "align_self": null,
            "border": null,
            "bottom": null,
            "display": null,
            "flex": null,
            "flex_flow": null,
            "grid_area": null,
            "grid_auto_columns": null,
            "grid_auto_flow": null,
            "grid_auto_rows": null,
            "grid_column": null,
            "grid_gap": null,
            "grid_row": null,
            "grid_template_areas": null,
            "grid_template_columns": null,
            "grid_template_rows": null,
            "height": null,
            "justify_content": null,
            "justify_items": null,
            "left": null,
            "margin": null,
            "max_height": null,
            "max_width": null,
            "min_height": null,
            "min_width": null,
            "object_fit": null,
            "object_position": null,
            "order": null,
            "overflow": null,
            "overflow_x": null,
            "overflow_y": null,
            "padding": null,
            "right": null,
            "top": null,
            "visibility": null,
            "width": null
          }
        },
        "e1b2af4efd824352aa89c16c451c7376": {
          "model_module": "@jupyter-widgets/controls",
          "model_name": "ProgressStyleModel",
          "model_module_version": "1.5.0",
          "state": {
            "_model_module": "@jupyter-widgets/controls",
            "_model_module_version": "1.5.0",
            "_model_name": "ProgressStyleModel",
            "_view_count": null,
            "_view_module": "@jupyter-widgets/base",
            "_view_module_version": "1.2.0",
            "_view_name": "StyleView",
            "bar_color": null,
            "description_width": ""
          }
        },
        "29656ce203414fcca0338bc49b57f4f3": {
          "model_module": "@jupyter-widgets/controls",
          "model_name": "VBoxModel",
          "model_module_version": "1.5.0",
          "state": {
            "_dom_classes": [],
            "_model_module": "@jupyter-widgets/controls",
            "_model_module_version": "1.5.0",
            "_model_name": "VBoxModel",
            "_view_count": null,
            "_view_module": "@jupyter-widgets/controls",
            "_view_module_version": "1.5.0",
            "_view_name": "VBoxView",
            "box_style": "",
            "children": [
              "IPY_MODEL_308fd371fbd0451e872fe3d6b766d463",
              "IPY_MODEL_c205f1ed2823495c941cb80ba75fc5d4"
            ],
            "layout": "IPY_MODEL_d1a8b25dfd0540a4802439c8a7bdae27"
          }
        },
        "308fd371fbd0451e872fe3d6b766d463": {
          "model_module": "@jupyter-widgets/controls",
          "model_name": "LabelModel",
          "model_module_version": "1.5.0",
          "state": {
            "_dom_classes": [],
            "_model_module": "@jupyter-widgets/controls",
            "_model_module_version": "1.5.0",
            "_model_name": "LabelModel",
            "_view_count": null,
            "_view_module": "@jupyter-widgets/controls",
            "_view_module_version": "1.5.0",
            "_view_name": "LabelView",
            "description": "",
            "description_tooltip": null,
            "layout": "IPY_MODEL_6f43054c64634a559a471f97303e5911",
            "placeholder": "​",
            "style": "IPY_MODEL_3b97ef8565de41aa8a10c43f91664be6",
            "value": "0.012 MB of 0.012 MB uploaded\r"
          }
        },
        "c205f1ed2823495c941cb80ba75fc5d4": {
          "model_module": "@jupyter-widgets/controls",
          "model_name": "FloatProgressModel",
          "model_module_version": "1.5.0",
          "state": {
            "_dom_classes": [],
            "_model_module": "@jupyter-widgets/controls",
            "_model_module_version": "1.5.0",
            "_model_name": "FloatProgressModel",
            "_view_count": null,
            "_view_module": "@jupyter-widgets/controls",
            "_view_module_version": "1.5.0",
            "_view_name": "ProgressView",
            "bar_style": "",
            "description": "",
            "description_tooltip": null,
            "layout": "IPY_MODEL_f8a5a131594040148710cff6270b77b2",
            "max": 1,
            "min": 0,
            "orientation": "horizontal",
            "style": "IPY_MODEL_618076ce7b6a423b8d40a047c801eed8",
            "value": 1
          }
        },
        "d1a8b25dfd0540a4802439c8a7bdae27": {
          "model_module": "@jupyter-widgets/base",
          "model_name": "LayoutModel",
          "model_module_version": "1.2.0",
          "state": {
            "_model_module": "@jupyter-widgets/base",
            "_model_module_version": "1.2.0",
            "_model_name": "LayoutModel",
            "_view_count": null,
            "_view_module": "@jupyter-widgets/base",
            "_view_module_version": "1.2.0",
            "_view_name": "LayoutView",
            "align_content": null,
            "align_items": null,
            "align_self": null,
            "border": null,
            "bottom": null,
            "display": null,
            "flex": null,
            "flex_flow": null,
            "grid_area": null,
            "grid_auto_columns": null,
            "grid_auto_flow": null,
            "grid_auto_rows": null,
            "grid_column": null,
            "grid_gap": null,
            "grid_row": null,
            "grid_template_areas": null,
            "grid_template_columns": null,
            "grid_template_rows": null,
            "height": null,
            "justify_content": null,
            "justify_items": null,
            "left": null,
            "margin": null,
            "max_height": null,
            "max_width": null,
            "min_height": null,
            "min_width": null,
            "object_fit": null,
            "object_position": null,
            "order": null,
            "overflow": null,
            "overflow_x": null,
            "overflow_y": null,
            "padding": null,
            "right": null,
            "top": null,
            "visibility": null,
            "width": null
          }
        },
        "6f43054c64634a559a471f97303e5911": {
          "model_module": "@jupyter-widgets/base",
          "model_name": "LayoutModel",
          "model_module_version": "1.2.0",
          "state": {
            "_model_module": "@jupyter-widgets/base",
            "_model_module_version": "1.2.0",
            "_model_name": "LayoutModel",
            "_view_count": null,
            "_view_module": "@jupyter-widgets/base",
            "_view_module_version": "1.2.0",
            "_view_name": "LayoutView",
            "align_content": null,
            "align_items": null,
            "align_self": null,
            "border": null,
            "bottom": null,
            "display": null,
            "flex": null,
            "flex_flow": null,
            "grid_area": null,
            "grid_auto_columns": null,
            "grid_auto_flow": null,
            "grid_auto_rows": null,
            "grid_column": null,
            "grid_gap": null,
            "grid_row": null,
            "grid_template_areas": null,
            "grid_template_columns": null,
            "grid_template_rows": null,
            "height": null,
            "justify_content": null,
            "justify_items": null,
            "left": null,
            "margin": null,
            "max_height": null,
            "max_width": null,
            "min_height": null,
            "min_width": null,
            "object_fit": null,
            "object_position": null,
            "order": null,
            "overflow": null,
            "overflow_x": null,
            "overflow_y": null,
            "padding": null,
            "right": null,
            "top": null,
            "visibility": null,
            "width": null
          }
        },
        "3b97ef8565de41aa8a10c43f91664be6": {
          "model_module": "@jupyter-widgets/controls",
          "model_name": "DescriptionStyleModel",
          "model_module_version": "1.5.0",
          "state": {
            "_model_module": "@jupyter-widgets/controls",
            "_model_module_version": "1.5.0",
            "_model_name": "DescriptionStyleModel",
            "_view_count": null,
            "_view_module": "@jupyter-widgets/base",
            "_view_module_version": "1.2.0",
            "_view_name": "StyleView",
            "description_width": ""
          }
        },
        "f8a5a131594040148710cff6270b77b2": {
          "model_module": "@jupyter-widgets/base",
          "model_name": "LayoutModel",
          "model_module_version": "1.2.0",
          "state": {
            "_model_module": "@jupyter-widgets/base",
            "_model_module_version": "1.2.0",
            "_model_name": "LayoutModel",
            "_view_count": null,
            "_view_module": "@jupyter-widgets/base",
            "_view_module_version": "1.2.0",
            "_view_name": "LayoutView",
            "align_content": null,
            "align_items": null,
            "align_self": null,
            "border": null,
            "bottom": null,
            "display": null,
            "flex": null,
            "flex_flow": null,
            "grid_area": null,
            "grid_auto_columns": null,
            "grid_auto_flow": null,
            "grid_auto_rows": null,
            "grid_column": null,
            "grid_gap": null,
            "grid_row": null,
            "grid_template_areas": null,
            "grid_template_columns": null,
            "grid_template_rows": null,
            "height": null,
            "justify_content": null,
            "justify_items": null,
            "left": null,
            "margin": null,
            "max_height": null,
            "max_width": null,
            "min_height": null,
            "min_width": null,
            "object_fit": null,
            "object_position": null,
            "order": null,
            "overflow": null,
            "overflow_x": null,
            "overflow_y": null,
            "padding": null,
            "right": null,
            "top": null,
            "visibility": null,
            "width": null
          }
        },
        "618076ce7b6a423b8d40a047c801eed8": {
          "model_module": "@jupyter-widgets/controls",
          "model_name": "ProgressStyleModel",
          "model_module_version": "1.5.0",
          "state": {
            "_model_module": "@jupyter-widgets/controls",
            "_model_module_version": "1.5.0",
            "_model_name": "ProgressStyleModel",
            "_view_count": null,
            "_view_module": "@jupyter-widgets/base",
            "_view_module_version": "1.2.0",
            "_view_name": "StyleView",
            "bar_color": null,
            "description_width": ""
          }
        },
        "271483bc14ce44c3a8e041f503c37282": {
          "model_module": "@jupyter-widgets/controls",
          "model_name": "VBoxModel",
          "model_module_version": "1.5.0",
          "state": {
            "_dom_classes": [],
            "_model_module": "@jupyter-widgets/controls",
            "_model_module_version": "1.5.0",
            "_model_name": "VBoxModel",
            "_view_count": null,
            "_view_module": "@jupyter-widgets/controls",
            "_view_module_version": "1.5.0",
            "_view_name": "VBoxView",
            "box_style": "",
            "children": [
              "IPY_MODEL_1d826006a7b4431da71d00f63fcdaa9c",
              "IPY_MODEL_0180a53bdb404dbbb210b6e17c19659e"
            ],
            "layout": "IPY_MODEL_015a56eab344429ab5dcdd6444e35108"
          }
        },
        "1d826006a7b4431da71d00f63fcdaa9c": {
          "model_module": "@jupyter-widgets/controls",
          "model_name": "LabelModel",
          "model_module_version": "1.5.0",
          "state": {
            "_dom_classes": [],
            "_model_module": "@jupyter-widgets/controls",
            "_model_module_version": "1.5.0",
            "_model_name": "LabelModel",
            "_view_count": null,
            "_view_module": "@jupyter-widgets/controls",
            "_view_module_version": "1.5.0",
            "_view_name": "LabelView",
            "description": "",
            "description_tooltip": null,
            "layout": "IPY_MODEL_495b09725b864eae8c83274c471d8596",
            "placeholder": "​",
            "style": "IPY_MODEL_0fe423922cd7434cbaa444ac325cfd1f",
            "value": "0.012 MB of 0.012 MB uploaded\r"
          }
        },
        "0180a53bdb404dbbb210b6e17c19659e": {
          "model_module": "@jupyter-widgets/controls",
          "model_name": "FloatProgressModel",
          "model_module_version": "1.5.0",
          "state": {
            "_dom_classes": [],
            "_model_module": "@jupyter-widgets/controls",
            "_model_module_version": "1.5.0",
            "_model_name": "FloatProgressModel",
            "_view_count": null,
            "_view_module": "@jupyter-widgets/controls",
            "_view_module_version": "1.5.0",
            "_view_name": "ProgressView",
            "bar_style": "",
            "description": "",
            "description_tooltip": null,
            "layout": "IPY_MODEL_1b2254d52e894c8680c584a314c923db",
            "max": 1,
            "min": 0,
            "orientation": "horizontal",
            "style": "IPY_MODEL_b42e1060a5aa414f89703901c197ad23",
            "value": 1
          }
        },
        "015a56eab344429ab5dcdd6444e35108": {
          "model_module": "@jupyter-widgets/base",
          "model_name": "LayoutModel",
          "model_module_version": "1.2.0",
          "state": {
            "_model_module": "@jupyter-widgets/base",
            "_model_module_version": "1.2.0",
            "_model_name": "LayoutModel",
            "_view_count": null,
            "_view_module": "@jupyter-widgets/base",
            "_view_module_version": "1.2.0",
            "_view_name": "LayoutView",
            "align_content": null,
            "align_items": null,
            "align_self": null,
            "border": null,
            "bottom": null,
            "display": null,
            "flex": null,
            "flex_flow": null,
            "grid_area": null,
            "grid_auto_columns": null,
            "grid_auto_flow": null,
            "grid_auto_rows": null,
            "grid_column": null,
            "grid_gap": null,
            "grid_row": null,
            "grid_template_areas": null,
            "grid_template_columns": null,
            "grid_template_rows": null,
            "height": null,
            "justify_content": null,
            "justify_items": null,
            "left": null,
            "margin": null,
            "max_height": null,
            "max_width": null,
            "min_height": null,
            "min_width": null,
            "object_fit": null,
            "object_position": null,
            "order": null,
            "overflow": null,
            "overflow_x": null,
            "overflow_y": null,
            "padding": null,
            "right": null,
            "top": null,
            "visibility": null,
            "width": null
          }
        },
        "495b09725b864eae8c83274c471d8596": {
          "model_module": "@jupyter-widgets/base",
          "model_name": "LayoutModel",
          "model_module_version": "1.2.0",
          "state": {
            "_model_module": "@jupyter-widgets/base",
            "_model_module_version": "1.2.0",
            "_model_name": "LayoutModel",
            "_view_count": null,
            "_view_module": "@jupyter-widgets/base",
            "_view_module_version": "1.2.0",
            "_view_name": "LayoutView",
            "align_content": null,
            "align_items": null,
            "align_self": null,
            "border": null,
            "bottom": null,
            "display": null,
            "flex": null,
            "flex_flow": null,
            "grid_area": null,
            "grid_auto_columns": null,
            "grid_auto_flow": null,
            "grid_auto_rows": null,
            "grid_column": null,
            "grid_gap": null,
            "grid_row": null,
            "grid_template_areas": null,
            "grid_template_columns": null,
            "grid_template_rows": null,
            "height": null,
            "justify_content": null,
            "justify_items": null,
            "left": null,
            "margin": null,
            "max_height": null,
            "max_width": null,
            "min_height": null,
            "min_width": null,
            "object_fit": null,
            "object_position": null,
            "order": null,
            "overflow": null,
            "overflow_x": null,
            "overflow_y": null,
            "padding": null,
            "right": null,
            "top": null,
            "visibility": null,
            "width": null
          }
        },
        "0fe423922cd7434cbaa444ac325cfd1f": {
          "model_module": "@jupyter-widgets/controls",
          "model_name": "DescriptionStyleModel",
          "model_module_version": "1.5.0",
          "state": {
            "_model_module": "@jupyter-widgets/controls",
            "_model_module_version": "1.5.0",
            "_model_name": "DescriptionStyleModel",
            "_view_count": null,
            "_view_module": "@jupyter-widgets/base",
            "_view_module_version": "1.2.0",
            "_view_name": "StyleView",
            "description_width": ""
          }
        },
        "1b2254d52e894c8680c584a314c923db": {
          "model_module": "@jupyter-widgets/base",
          "model_name": "LayoutModel",
          "model_module_version": "1.2.0",
          "state": {
            "_model_module": "@jupyter-widgets/base",
            "_model_module_version": "1.2.0",
            "_model_name": "LayoutModel",
            "_view_count": null,
            "_view_module": "@jupyter-widgets/base",
            "_view_module_version": "1.2.0",
            "_view_name": "LayoutView",
            "align_content": null,
            "align_items": null,
            "align_self": null,
            "border": null,
            "bottom": null,
            "display": null,
            "flex": null,
            "flex_flow": null,
            "grid_area": null,
            "grid_auto_columns": null,
            "grid_auto_flow": null,
            "grid_auto_rows": null,
            "grid_column": null,
            "grid_gap": null,
            "grid_row": null,
            "grid_template_areas": null,
            "grid_template_columns": null,
            "grid_template_rows": null,
            "height": null,
            "justify_content": null,
            "justify_items": null,
            "left": null,
            "margin": null,
            "max_height": null,
            "max_width": null,
            "min_height": null,
            "min_width": null,
            "object_fit": null,
            "object_position": null,
            "order": null,
            "overflow": null,
            "overflow_x": null,
            "overflow_y": null,
            "padding": null,
            "right": null,
            "top": null,
            "visibility": null,
            "width": null
          }
        },
        "b42e1060a5aa414f89703901c197ad23": {
          "model_module": "@jupyter-widgets/controls",
          "model_name": "ProgressStyleModel",
          "model_module_version": "1.5.0",
          "state": {
            "_model_module": "@jupyter-widgets/controls",
            "_model_module_version": "1.5.0",
            "_model_name": "ProgressStyleModel",
            "_view_count": null,
            "_view_module": "@jupyter-widgets/base",
            "_view_module_version": "1.2.0",
            "_view_name": "StyleView",
            "bar_color": null,
            "description_width": ""
          }
        },
        "eb6033c3859a428eb0118516d1b06b46": {
          "model_module": "@jupyter-widgets/controls",
          "model_name": "VBoxModel",
          "model_module_version": "1.5.0",
          "state": {
            "_dom_classes": [],
            "_model_module": "@jupyter-widgets/controls",
            "_model_module_version": "1.5.0",
            "_model_name": "VBoxModel",
            "_view_count": null,
            "_view_module": "@jupyter-widgets/controls",
            "_view_module_version": "1.5.0",
            "_view_name": "VBoxView",
            "box_style": "",
            "children": [
              "IPY_MODEL_d8e1f58cbce5487b9a7072fb8cfc2394",
              "IPY_MODEL_b08ecb3559554ccd9835803a9ad7a72e"
            ],
            "layout": "IPY_MODEL_23a760fd96b74b10908b7d2f5fb25787"
          }
        },
        "d8e1f58cbce5487b9a7072fb8cfc2394": {
          "model_module": "@jupyter-widgets/controls",
          "model_name": "LabelModel",
          "model_module_version": "1.5.0",
          "state": {
            "_dom_classes": [],
            "_model_module": "@jupyter-widgets/controls",
            "_model_module_version": "1.5.0",
            "_model_name": "LabelModel",
            "_view_count": null,
            "_view_module": "@jupyter-widgets/controls",
            "_view_module_version": "1.5.0",
            "_view_name": "LabelView",
            "description": "",
            "description_tooltip": null,
            "layout": "IPY_MODEL_659f6dda217242cc944584cfa808e7a8",
            "placeholder": "​",
            "style": "IPY_MODEL_062a9bceb45e40b5adf07625e9f4ca81",
            "value": "0.012 MB of 0.012 MB uploaded\r"
          }
        },
        "b08ecb3559554ccd9835803a9ad7a72e": {
          "model_module": "@jupyter-widgets/controls",
          "model_name": "FloatProgressModel",
          "model_module_version": "1.5.0",
          "state": {
            "_dom_classes": [],
            "_model_module": "@jupyter-widgets/controls",
            "_model_module_version": "1.5.0",
            "_model_name": "FloatProgressModel",
            "_view_count": null,
            "_view_module": "@jupyter-widgets/controls",
            "_view_module_version": "1.5.0",
            "_view_name": "ProgressView",
            "bar_style": "",
            "description": "",
            "description_tooltip": null,
            "layout": "IPY_MODEL_de7265e84cb54af284f02fc2c24ea75b",
            "max": 1,
            "min": 0,
            "orientation": "horizontal",
            "style": "IPY_MODEL_10d42227edf6462299b1f79128d01a37",
            "value": 1
          }
        },
        "23a760fd96b74b10908b7d2f5fb25787": {
          "model_module": "@jupyter-widgets/base",
          "model_name": "LayoutModel",
          "model_module_version": "1.2.0",
          "state": {
            "_model_module": "@jupyter-widgets/base",
            "_model_module_version": "1.2.0",
            "_model_name": "LayoutModel",
            "_view_count": null,
            "_view_module": "@jupyter-widgets/base",
            "_view_module_version": "1.2.0",
            "_view_name": "LayoutView",
            "align_content": null,
            "align_items": null,
            "align_self": null,
            "border": null,
            "bottom": null,
            "display": null,
            "flex": null,
            "flex_flow": null,
            "grid_area": null,
            "grid_auto_columns": null,
            "grid_auto_flow": null,
            "grid_auto_rows": null,
            "grid_column": null,
            "grid_gap": null,
            "grid_row": null,
            "grid_template_areas": null,
            "grid_template_columns": null,
            "grid_template_rows": null,
            "height": null,
            "justify_content": null,
            "justify_items": null,
            "left": null,
            "margin": null,
            "max_height": null,
            "max_width": null,
            "min_height": null,
            "min_width": null,
            "object_fit": null,
            "object_position": null,
            "order": null,
            "overflow": null,
            "overflow_x": null,
            "overflow_y": null,
            "padding": null,
            "right": null,
            "top": null,
            "visibility": null,
            "width": null
          }
        },
        "659f6dda217242cc944584cfa808e7a8": {
          "model_module": "@jupyter-widgets/base",
          "model_name": "LayoutModel",
          "model_module_version": "1.2.0",
          "state": {
            "_model_module": "@jupyter-widgets/base",
            "_model_module_version": "1.2.0",
            "_model_name": "LayoutModel",
            "_view_count": null,
            "_view_module": "@jupyter-widgets/base",
            "_view_module_version": "1.2.0",
            "_view_name": "LayoutView",
            "align_content": null,
            "align_items": null,
            "align_self": null,
            "border": null,
            "bottom": null,
            "display": null,
            "flex": null,
            "flex_flow": null,
            "grid_area": null,
            "grid_auto_columns": null,
            "grid_auto_flow": null,
            "grid_auto_rows": null,
            "grid_column": null,
            "grid_gap": null,
            "grid_row": null,
            "grid_template_areas": null,
            "grid_template_columns": null,
            "grid_template_rows": null,
            "height": null,
            "justify_content": null,
            "justify_items": null,
            "left": null,
            "margin": null,
            "max_height": null,
            "max_width": null,
            "min_height": null,
            "min_width": null,
            "object_fit": null,
            "object_position": null,
            "order": null,
            "overflow": null,
            "overflow_x": null,
            "overflow_y": null,
            "padding": null,
            "right": null,
            "top": null,
            "visibility": null,
            "width": null
          }
        },
        "062a9bceb45e40b5adf07625e9f4ca81": {
          "model_module": "@jupyter-widgets/controls",
          "model_name": "DescriptionStyleModel",
          "model_module_version": "1.5.0",
          "state": {
            "_model_module": "@jupyter-widgets/controls",
            "_model_module_version": "1.5.0",
            "_model_name": "DescriptionStyleModel",
            "_view_count": null,
            "_view_module": "@jupyter-widgets/base",
            "_view_module_version": "1.2.0",
            "_view_name": "StyleView",
            "description_width": ""
          }
        },
        "de7265e84cb54af284f02fc2c24ea75b": {
          "model_module": "@jupyter-widgets/base",
          "model_name": "LayoutModel",
          "model_module_version": "1.2.0",
          "state": {
            "_model_module": "@jupyter-widgets/base",
            "_model_module_version": "1.2.0",
            "_model_name": "LayoutModel",
            "_view_count": null,
            "_view_module": "@jupyter-widgets/base",
            "_view_module_version": "1.2.0",
            "_view_name": "LayoutView",
            "align_content": null,
            "align_items": null,
            "align_self": null,
            "border": null,
            "bottom": null,
            "display": null,
            "flex": null,
            "flex_flow": null,
            "grid_area": null,
            "grid_auto_columns": null,
            "grid_auto_flow": null,
            "grid_auto_rows": null,
            "grid_column": null,
            "grid_gap": null,
            "grid_row": null,
            "grid_template_areas": null,
            "grid_template_columns": null,
            "grid_template_rows": null,
            "height": null,
            "justify_content": null,
            "justify_items": null,
            "left": null,
            "margin": null,
            "max_height": null,
            "max_width": null,
            "min_height": null,
            "min_width": null,
            "object_fit": null,
            "object_position": null,
            "order": null,
            "overflow": null,
            "overflow_x": null,
            "overflow_y": null,
            "padding": null,
            "right": null,
            "top": null,
            "visibility": null,
            "width": null
          }
        },
        "10d42227edf6462299b1f79128d01a37": {
          "model_module": "@jupyter-widgets/controls",
          "model_name": "ProgressStyleModel",
          "model_module_version": "1.5.0",
          "state": {
            "_model_module": "@jupyter-widgets/controls",
            "_model_module_version": "1.5.0",
            "_model_name": "ProgressStyleModel",
            "_view_count": null,
            "_view_module": "@jupyter-widgets/base",
            "_view_module_version": "1.2.0",
            "_view_name": "StyleView",
            "bar_color": null,
            "description_width": ""
          }
        }
      }
    }
  },
  "nbformat": 4,
  "nbformat_minor": 0
}